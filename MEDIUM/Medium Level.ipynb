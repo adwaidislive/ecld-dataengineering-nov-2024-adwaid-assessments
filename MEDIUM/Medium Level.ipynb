{
 "cells": [
  {
   "cell_type": "markdown",
   "id": "4654cbed",
   "metadata": {},
   "source": [
    "# Q1 - Rock, Paper, Scissors"
   ]
  },
  {
   "cell_type": "markdown",
   "id": "1ba6fb1d",
   "metadata": {},
   "source": [
    "Create a function which takes two strings (p1 and p2 ⁠— which represent player 1 and 2) as arguments and returns a string stating the winner in a game of Rock, Paper, Scissors.\n",
    "\n",
    "Each argument will contain a single string: \"Rock\", \"Paper\", or \"Scissors\". Return the winner according to the following rules:\n",
    "\n",
    "\n",
    "Rock beats Scissors\n",
    "\n",
    "Scissors beats Paper\n",
    "\n",
    "Paper beats Rock\n",
    "\n",
    "If p1 wins, return the string \"The winner is p1\". If p2 wins, return the string \"The winner is p2\" and if p1 and p2 are the same, return \"It's a draw\"."
   ]
  },
  {
   "cell_type": "code",
   "execution_count": 12,
   "id": "57d42ad7",
   "metadata": {},
   "outputs": [],
   "source": [
    "def rps(p1,p2):\n",
    "    p1,p2 = p1.lower(),p2.lower()\n",
    "    if p1 == p2 :\n",
    "        return \"It's a draw\"\n",
    "    \n",
    "    elif p1 == 'rock':\n",
    "        \n",
    "        if p2 == 'scissors':\n",
    "            return 'The winner is p1'\n",
    "        elif p2 == 'paper':\n",
    "            return 'The winner is p2'\n",
    "        else :\n",
    "            return 'Please give a valid input'\n",
    "        \n",
    "    elif p1 == 'scissors':\n",
    "        \n",
    "        if p2 == 'rock':\n",
    "            return 'The winner is p2'\n",
    "        elif p2 == 'paper':\n",
    "            return 'The winner is p1'\n",
    "        else :\n",
    "            return 'Please give a valid input'\n",
    "        \n",
    "    elif p1 == 'paper':\n",
    "        \n",
    "        if p2 == 'rock':\n",
    "            return 'The winner is p1'\n",
    "        elif p2 == 'scissors':\n",
    "            return 'The winner is p2'\n",
    "        else :\n",
    "            return 'Please give a valid input'\n",
    "        \n",
    "    else :\n",
    "        return 'Please give a valid input'\n",
    "            \n",
    "    return"
   ]
  },
  {
   "cell_type": "code",
   "execution_count": 16,
   "id": "baada190",
   "metadata": {},
   "outputs": [
    {
     "data": {
      "text/plain": [
       "\"It's a draw\""
      ]
     },
     "execution_count": 16,
     "metadata": {},
     "output_type": "execute_result"
    }
   ],
   "source": [
    "rps('Rock','Rock')"
   ]
  },
  {
   "cell_type": "code",
   "execution_count": null,
   "id": "0fd0cb74",
   "metadata": {},
   "outputs": [],
   "source": []
  }
 ],
 "metadata": {
  "kernelspec": {
   "display_name": "Python 3 (ipykernel)",
   "language": "python",
   "name": "python3"
  },
  "language_info": {
   "codemirror_mode": {
    "name": "ipython",
    "version": 3
   },
   "file_extension": ".py",
   "mimetype": "text/x-python",
   "name": "python",
   "nbconvert_exporter": "python",
   "pygments_lexer": "ipython3",
   "version": "3.12.3"
  }
 },
 "nbformat": 4,
 "nbformat_minor": 5
}
