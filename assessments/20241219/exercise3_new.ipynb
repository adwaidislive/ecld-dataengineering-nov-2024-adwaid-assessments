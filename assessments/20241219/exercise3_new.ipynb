{
 "cells": [
  {
   "cell_type": "code",
   "execution_count": 1,
   "metadata": {},
   "outputs": [
    {
     "data": {
      "text/plain": [
       "[{'transaction_id': 'T123456',\n",
       "  'timestamp': '2024-01-15T14:30:00',\n",
       "  'customer': {'id': 'CUS123',\n",
       "   'region': 'North',\n",
       "   'segment': 'Premium',\n",
       "   'join_date': '2023-01-01'},\n",
       "  'items': [{'product_id': 'P789',\n",
       "    'category': 'Electronics',\n",
       "    'subcategory': 'Smartphones',\n",
       "    'price': 499.99,\n",
       "    'quantity': 1,\n",
       "    'discount': 0.0},\n",
       "   {'product_id': 'P456',\n",
       "    'category': 'Accessories',\n",
       "    'subcategory': 'Phone Cases',\n",
       "    'price': 29.99,\n",
       "    'quantity': 2,\n",
       "    'discount': 5.0}],\n",
       "  'payment_method': 'credit_card',\n",
       "  'status': 'completed',\n",
       "  'shipping': {'method': 'express',\n",
       "   'cost': 15.99,\n",
       "   'address': {'city': 'Boston', 'state': 'MA', 'country': 'USA'}}},\n",
       " {'transaction_id': 'T123457',\n",
       "  'timestamp': '2024-01-15T14:45:00',\n",
       "  'customer': {'id': 'CUS456',\n",
       "   'region': 'South',\n",
       "   'segment': 'Standard',\n",
       "   'join_date': '2023-06-15'},\n",
       "  'items': [{'product_id': 'P234',\n",
       "    'category': 'Books',\n",
       "    'subcategory': 'Fiction',\n",
       "    'price': 24.99,\n",
       "    'quantity': 3,\n",
       "    'discount': 10.0}],\n",
       "  'payment_method': 'paypal',\n",
       "  'status': 'completed',\n",
       "  'shipping': {'method': 'standard',\n",
       "   'cost': 5.99,\n",
       "   'address': {'city': 'Miami', 'state': 'FL', 'country': 'USA'}}},\n",
       " {'transaction_id': 'T123458',\n",
       "  'timestamp': '2024-01-15T15:00:00',\n",
       "  'customer': {'id': 'CUS789',\n",
       "   'region': 'West',\n",
       "   'segment': 'Premium',\n",
       "   'join_date': '2022-03-20'},\n",
       "  'items': [{'product_id': 'P789',\n",
       "    'category': 'Electronics',\n",
       "    'subcategory': 'Smartphones',\n",
       "    'price': 499.99,\n",
       "    'quantity': 1,\n",
       "    'discount': 50.0},\n",
       "   {'product_id': 'P555',\n",
       "    'category': 'Electronics',\n",
       "    'subcategory': 'Tablets',\n",
       "    'price': 299.99,\n",
       "    'quantity': 1,\n",
       "    'discount': 0.0},\n",
       "   {'product_id': 'P777',\n",
       "    'category': 'Electronics',\n",
       "    'subcategory': 'Headphones',\n",
       "    'price': 199.99,\n",
       "    'quantity': 2,\n",
       "    'discount': 25.0}],\n",
       "  'payment_method': 'credit_card',\n",
       "  'status': 'pending',\n",
       "  'shipping': {'method': 'express',\n",
       "   'cost': 25.99,\n",
       "   'address': {'city': 'Los Angeles', 'state': 'CA', 'country': 'USA'}}},\n",
       " {'transaction_id': 'T123459',\n",
       "  'timestamp': '2024-01-15T15:15:00',\n",
       "  'customer': {'id': 'CUS101',\n",
       "   'region': 'East',\n",
       "   'segment': 'Standard',\n",
       "   'join_date': '2024-01-01'},\n",
       "  'items': [{'product_id': 'P333',\n",
       "    'category': 'Clothing',\n",
       "    'subcategory': 'Shirts',\n",
       "    'price': 39.99,\n",
       "    'quantity': 2,\n",
       "    'discount': 15.0},\n",
       "   {'product_id': 'P444',\n",
       "    'category': 'Clothing',\n",
       "    'subcategory': 'Pants',\n",
       "    'price': 59.99,\n",
       "    'quantity': 1,\n",
       "    'discount': 0.0}],\n",
       "  'payment_method': 'debit_card',\n",
       "  'status': 'completed',\n",
       "  'shipping': {'method': 'standard',\n",
       "   'cost': 7.99,\n",
       "   'address': {'city': 'New York', 'state': 'NY', 'country': 'USA'}}},\n",
       " {'transaction_id': 'T123460',\n",
       "  'timestamp': '2024-01-15T15:30:00',\n",
       "  'customer': {'id': 'CUS202',\n",
       "   'region': 'North',\n",
       "   'segment': 'Premium',\n",
       "   'join_date': '2023-08-15'},\n",
       "  'items': [{'product_id': 'P888',\n",
       "    'category': 'Home',\n",
       "    'subcategory': 'Kitchen',\n",
       "    'price': 199.99,\n",
       "    'quantity': 1,\n",
       "    'discount': 20.0}],\n",
       "  'payment_method': 'gift_card',\n",
       "  'status': 'cancelled',\n",
       "  'shipping': {'method': 'standard',\n",
       "   'cost': 9.99,\n",
       "   'address': {'city': 'Chicago', 'state': 'IL', 'country': 'USA'}}}]"
      ]
     },
     "execution_count": 1,
     "metadata": {},
     "output_type": "execute_result"
    }
   ],
   "source": [
    "import json\n",
    "import pandas as pd\n",
    "\n",
    "json_file = json.load(open('sample-dataset-3.json'))\n",
    "json_file"
   ]
  },
  {
   "cell_type": "code",
   "execution_count": 11,
   "metadata": {},
   "outputs": [
    {
     "data": {
      "text/plain": [
       "'Electronics'"
      ]
     },
     "execution_count": 11,
     "metadata": {},
     "output_type": "execute_result"
    }
   ],
   "source": [
    "json_file[0]['items'][0]['category']"
   ]
  },
  {
   "cell_type": "code",
   "execution_count": 10,
   "metadata": {},
   "outputs": [
    {
     "data": {
      "text/plain": [
       "1854.91"
      ]
     },
     "execution_count": 10,
     "metadata": {},
     "output_type": "execute_result"
    }
   ],
   "source": [
    "total_price = 0\n",
    "for i in range(len(json_file)):\n",
    "    for j in range(len(json_file[i]['items'])):\n",
    "        total_price = total_price + json_file[i]['items'][j]['price']\n",
    "\n",
    "\n",
    "total_price"
   ]
  },
  {
   "cell_type": "code",
   "execution_count": 13,
   "metadata": {},
   "outputs": [
    {
     "data": {
      "text/plain": [
       "{'Accessories', 'Books', 'Clothing', 'Electronics', 'Home'}"
      ]
     },
     "execution_count": 13,
     "metadata": {},
     "output_type": "execute_result"
    }
   ],
   "source": [
    "categories = []\n",
    "for i in range(len(json_file)):\n",
    "    for j in range(len(json_file[i]['items'])):\n",
    "        categories.append(json_file[i]['items'][j]['category'])\n",
    "\n",
    "\n",
    "set(categories)"
   ]
  },
  {
   "cell_type": "code",
   "execution_count": 15,
   "metadata": {},
   "outputs": [
    {
     "data": {
      "text/html": [
       "<div>\n",
       "<style scoped>\n",
       "    .dataframe tbody tr th:only-of-type {\n",
       "        vertical-align: middle;\n",
       "    }\n",
       "\n",
       "    .dataframe tbody tr th {\n",
       "        vertical-align: top;\n",
       "    }\n",
       "\n",
       "    .dataframe thead th {\n",
       "        text-align: right;\n",
       "    }\n",
       "</style>\n",
       "<table border=\"1\" class=\"dataframe\">\n",
       "  <thead>\n",
       "    <tr style=\"text-align: right;\">\n",
       "      <th></th>\n",
       "      <th>transaction_id</th>\n",
       "      <th>timestamp</th>\n",
       "      <th>items</th>\n",
       "      <th>payment_method</th>\n",
       "      <th>status</th>\n",
       "      <th>customer.id</th>\n",
       "      <th>customer.region</th>\n",
       "      <th>customer.segment</th>\n",
       "      <th>customer.join_date</th>\n",
       "      <th>shipping.method</th>\n",
       "      <th>shipping.cost</th>\n",
       "      <th>shipping.address.city</th>\n",
       "      <th>shipping.address.state</th>\n",
       "      <th>shipping.address.country</th>\n",
       "    </tr>\n",
       "  </thead>\n",
       "  <tbody>\n",
       "    <tr>\n",
       "      <th>0</th>\n",
       "      <td>T123456</td>\n",
       "      <td>2024-01-15T14:30:00</td>\n",
       "      <td>[{'product_id': 'P789', 'category': 'Electroni...</td>\n",
       "      <td>credit_card</td>\n",
       "      <td>completed</td>\n",
       "      <td>CUS123</td>\n",
       "      <td>North</td>\n",
       "      <td>Premium</td>\n",
       "      <td>2023-01-01</td>\n",
       "      <td>express</td>\n",
       "      <td>15.99</td>\n",
       "      <td>Boston</td>\n",
       "      <td>MA</td>\n",
       "      <td>USA</td>\n",
       "    </tr>\n",
       "    <tr>\n",
       "      <th>1</th>\n",
       "      <td>T123457</td>\n",
       "      <td>2024-01-15T14:45:00</td>\n",
       "      <td>[{'product_id': 'P234', 'category': 'Books', '...</td>\n",
       "      <td>paypal</td>\n",
       "      <td>completed</td>\n",
       "      <td>CUS456</td>\n",
       "      <td>South</td>\n",
       "      <td>Standard</td>\n",
       "      <td>2023-06-15</td>\n",
       "      <td>standard</td>\n",
       "      <td>5.99</td>\n",
       "      <td>Miami</td>\n",
       "      <td>FL</td>\n",
       "      <td>USA</td>\n",
       "    </tr>\n",
       "    <tr>\n",
       "      <th>2</th>\n",
       "      <td>T123458</td>\n",
       "      <td>2024-01-15T15:00:00</td>\n",
       "      <td>[{'product_id': 'P789', 'category': 'Electroni...</td>\n",
       "      <td>credit_card</td>\n",
       "      <td>pending</td>\n",
       "      <td>CUS789</td>\n",
       "      <td>West</td>\n",
       "      <td>Premium</td>\n",
       "      <td>2022-03-20</td>\n",
       "      <td>express</td>\n",
       "      <td>25.99</td>\n",
       "      <td>Los Angeles</td>\n",
       "      <td>CA</td>\n",
       "      <td>USA</td>\n",
       "    </tr>\n",
       "    <tr>\n",
       "      <th>3</th>\n",
       "      <td>T123459</td>\n",
       "      <td>2024-01-15T15:15:00</td>\n",
       "      <td>[{'product_id': 'P333', 'category': 'Clothing'...</td>\n",
       "      <td>debit_card</td>\n",
       "      <td>completed</td>\n",
       "      <td>CUS101</td>\n",
       "      <td>East</td>\n",
       "      <td>Standard</td>\n",
       "      <td>2024-01-01</td>\n",
       "      <td>standard</td>\n",
       "      <td>7.99</td>\n",
       "      <td>New York</td>\n",
       "      <td>NY</td>\n",
       "      <td>USA</td>\n",
       "    </tr>\n",
       "    <tr>\n",
       "      <th>4</th>\n",
       "      <td>T123460</td>\n",
       "      <td>2024-01-15T15:30:00</td>\n",
       "      <td>[{'product_id': 'P888', 'category': 'Home', 's...</td>\n",
       "      <td>gift_card</td>\n",
       "      <td>cancelled</td>\n",
       "      <td>CUS202</td>\n",
       "      <td>North</td>\n",
       "      <td>Premium</td>\n",
       "      <td>2023-08-15</td>\n",
       "      <td>standard</td>\n",
       "      <td>9.99</td>\n",
       "      <td>Chicago</td>\n",
       "      <td>IL</td>\n",
       "      <td>USA</td>\n",
       "    </tr>\n",
       "  </tbody>\n",
       "</table>\n",
       "</div>"
      ],
      "text/plain": [
       "  transaction_id            timestamp  \\\n",
       "0        T123456  2024-01-15T14:30:00   \n",
       "1        T123457  2024-01-15T14:45:00   \n",
       "2        T123458  2024-01-15T15:00:00   \n",
       "3        T123459  2024-01-15T15:15:00   \n",
       "4        T123460  2024-01-15T15:30:00   \n",
       "\n",
       "                                               items payment_method  \\\n",
       "0  [{'product_id': 'P789', 'category': 'Electroni...    credit_card   \n",
       "1  [{'product_id': 'P234', 'category': 'Books', '...         paypal   \n",
       "2  [{'product_id': 'P789', 'category': 'Electroni...    credit_card   \n",
       "3  [{'product_id': 'P333', 'category': 'Clothing'...     debit_card   \n",
       "4  [{'product_id': 'P888', 'category': 'Home', 's...      gift_card   \n",
       "\n",
       "      status customer.id customer.region customer.segment customer.join_date  \\\n",
       "0  completed      CUS123           North          Premium         2023-01-01   \n",
       "1  completed      CUS456           South         Standard         2023-06-15   \n",
       "2    pending      CUS789            West          Premium         2022-03-20   \n",
       "3  completed      CUS101            East         Standard         2024-01-01   \n",
       "4  cancelled      CUS202           North          Premium         2023-08-15   \n",
       "\n",
       "  shipping.method  shipping.cost shipping.address.city shipping.address.state  \\\n",
       "0         express          15.99                Boston                     MA   \n",
       "1        standard           5.99                 Miami                     FL   \n",
       "2         express          25.99           Los Angeles                     CA   \n",
       "3        standard           7.99              New York                     NY   \n",
       "4        standard           9.99               Chicago                     IL   \n",
       "\n",
       "  shipping.address.country  \n",
       "0                      USA  \n",
       "1                      USA  \n",
       "2                      USA  \n",
       "3                      USA  \n",
       "4                      USA  "
      ]
     },
     "execution_count": 15,
     "metadata": {},
     "output_type": "execute_result"
    }
   ],
   "source": [
    "df = pd.json_normalize(json_file)\n",
    "df"
   ]
  },
  {
   "cell_type": "code",
   "execution_count": 20,
   "metadata": {},
   "outputs": [
    {
     "data": {
      "text/plain": [
       "2"
      ]
     },
     "execution_count": 20,
     "metadata": {},
     "output_type": "execute_result"
    }
   ],
   "source": [
    "len(df['items'][0])"
   ]
  },
  {
   "cell_type": "code",
   "execution_count": null,
   "metadata": {},
   "outputs": [],
   "source": []
  }
 ],
 "metadata": {
  "kernelspec": {
   "display_name": "dec19venv",
   "language": "python",
   "name": "python3"
  },
  "language_info": {
   "codemirror_mode": {
    "name": "ipython",
    "version": 3
   },
   "file_extension": ".py",
   "mimetype": "text/x-python",
   "name": "python",
   "nbconvert_exporter": "python",
   "pygments_lexer": "ipython3",
   "version": "3.12.3"
  }
 },
 "nbformat": 4,
 "nbformat_minor": 2
}
