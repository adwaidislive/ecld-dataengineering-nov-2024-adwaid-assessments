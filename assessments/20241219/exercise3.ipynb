{
 "cells": [
  {
   "cell_type": "code",
   "execution_count": 10,
   "metadata": {},
   "outputs": [],
   "source": [
    "import json\n",
    "import pandas as pd"
   ]
  },
  {
   "cell_type": "code",
   "execution_count": 11,
   "metadata": {},
   "outputs": [
    {
     "data": {
      "text/plain": [
       "[{'transaction_id': 'T123456',\n",
       "  'timestamp': '2024-01-15T14:30:00',\n",
       "  'customer': {'id': 'CUS123',\n",
       "   'region': 'North',\n",
       "   'segment': 'Premium',\n",
       "   'join_date': '2023-01-01'},\n",
       "  'items': [{'product_id': 'P789',\n",
       "    'category': 'Electronics',\n",
       "    'subcategory': 'Smartphones',\n",
       "    'price': 499.99,\n",
       "    'quantity': 1,\n",
       "    'discount': 0.0},\n",
       "   {'product_id': 'P456',\n",
       "    'category': 'Accessories',\n",
       "    'subcategory': 'Phone Cases',\n",
       "    'price': 29.99,\n",
       "    'quantity': 2,\n",
       "    'discount': 5.0}],\n",
       "  'payment_method': 'credit_card',\n",
       "  'status': 'completed',\n",
       "  'shipping': {'method': 'express',\n",
       "   'cost': 15.99,\n",
       "   'address': {'city': 'Boston', 'state': 'MA', 'country': 'USA'}}},\n",
       " {'transaction_id': 'T123457',\n",
       "  'timestamp': '2024-01-15T14:45:00',\n",
       "  'customer': {'id': 'CUS456',\n",
       "   'region': 'South',\n",
       "   'segment': 'Standard',\n",
       "   'join_date': '2023-06-15'},\n",
       "  'items': [{'product_id': 'P234',\n",
       "    'category': 'Books',\n",
       "    'subcategory': 'Fiction',\n",
       "    'price': 24.99,\n",
       "    'quantity': 3,\n",
       "    'discount': 10.0}],\n",
       "  'payment_method': 'paypal',\n",
       "  'status': 'completed',\n",
       "  'shipping': {'method': 'standard',\n",
       "   'cost': 5.99,\n",
       "   'address': {'city': 'Miami', 'state': 'FL', 'country': 'USA'}}},\n",
       " {'transaction_id': 'T123458',\n",
       "  'timestamp': '2024-01-15T15:00:00',\n",
       "  'customer': {'id': 'CUS789',\n",
       "   'region': 'West',\n",
       "   'segment': 'Premium',\n",
       "   'join_date': '2022-03-20'},\n",
       "  'items': [{'product_id': 'P789',\n",
       "    'category': 'Electronics',\n",
       "    'subcategory': 'Smartphones',\n",
       "    'price': 499.99,\n",
       "    'quantity': 1,\n",
       "    'discount': 50.0},\n",
       "   {'product_id': 'P555',\n",
       "    'category': 'Electronics',\n",
       "    'subcategory': 'Tablets',\n",
       "    'price': 299.99,\n",
       "    'quantity': 1,\n",
       "    'discount': 0.0},\n",
       "   {'product_id': 'P777',\n",
       "    'category': 'Electronics',\n",
       "    'subcategory': 'Headphones',\n",
       "    'price': 199.99,\n",
       "    'quantity': 2,\n",
       "    'discount': 25.0}],\n",
       "  'payment_method': 'credit_card',\n",
       "  'status': 'pending',\n",
       "  'shipping': {'method': 'express',\n",
       "   'cost': 25.99,\n",
       "   'address': {'city': 'Los Angeles', 'state': 'CA', 'country': 'USA'}}},\n",
       " {'transaction_id': 'T123459',\n",
       "  'timestamp': '2024-01-15T15:15:00',\n",
       "  'customer': {'id': 'CUS101',\n",
       "   'region': 'East',\n",
       "   'segment': 'Standard',\n",
       "   'join_date': '2024-01-01'},\n",
       "  'items': [{'product_id': 'P333',\n",
       "    'category': 'Clothing',\n",
       "    'subcategory': 'Shirts',\n",
       "    'price': 39.99,\n",
       "    'quantity': 2,\n",
       "    'discount': 15.0},\n",
       "   {'product_id': 'P444',\n",
       "    'category': 'Clothing',\n",
       "    'subcategory': 'Pants',\n",
       "    'price': 59.99,\n",
       "    'quantity': 1,\n",
       "    'discount': 0.0}],\n",
       "  'payment_method': 'debit_card',\n",
       "  'status': 'completed',\n",
       "  'shipping': {'method': 'standard',\n",
       "   'cost': 7.99,\n",
       "   'address': {'city': 'New York', 'state': 'NY', 'country': 'USA'}}},\n",
       " {'transaction_id': 'T123460',\n",
       "  'timestamp': '2024-01-15T15:30:00',\n",
       "  'customer': {'id': 'CUS202',\n",
       "   'region': 'North',\n",
       "   'segment': 'Premium',\n",
       "   'join_date': '2023-08-15'},\n",
       "  'items': [{'product_id': 'P888',\n",
       "    'category': 'Home',\n",
       "    'subcategory': 'Kitchen',\n",
       "    'price': 199.99,\n",
       "    'quantity': 1,\n",
       "    'discount': 20.0}],\n",
       "  'payment_method': 'gift_card',\n",
       "  'status': 'cancelled',\n",
       "  'shipping': {'method': 'standard',\n",
       "   'cost': 9.99,\n",
       "   'address': {'city': 'Chicago', 'state': 'IL', 'country': 'USA'}}}]"
      ]
     },
     "execution_count": 11,
     "metadata": {},
     "output_type": "execute_result"
    }
   ],
   "source": [
    "json_file = json.load(open('sample-dataset-3.json'))\n",
    "json_file"
   ]
  },
  {
   "cell_type": "code",
   "execution_count": null,
   "metadata": {},
   "outputs": [
    {
     "data": {
      "text/html": [
       "<div>\n",
       "<style scoped>\n",
       "    .dataframe tbody tr th:only-of-type {\n",
       "        vertical-align: middle;\n",
       "    }\n",
       "\n",
       "    .dataframe tbody tr th {\n",
       "        vertical-align: top;\n",
       "    }\n",
       "\n",
       "    .dataframe thead th {\n",
       "        text-align: right;\n",
       "    }\n",
       "</style>\n",
       "<table border=\"1\" class=\"dataframe\">\n",
       "  <thead>\n",
       "    <tr style=\"text-align: right;\">\n",
       "      <th></th>\n",
       "      <th>transaction_id</th>\n",
       "      <th>timestamp</th>\n",
       "      <th>customer</th>\n",
       "      <th>items</th>\n",
       "      <th>payment_method</th>\n",
       "      <th>status</th>\n",
       "      <th>shipping</th>\n",
       "    </tr>\n",
       "  </thead>\n",
       "  <tbody>\n",
       "    <tr>\n",
       "      <th>0</th>\n",
       "      <td>T123456</td>\n",
       "      <td>2024-01-15 14:30:00</td>\n",
       "      <td>{'id': 'CUS123', 'region': 'North', 'segment':...</td>\n",
       "      <td>[{'product_id': 'P789', 'category': 'Electroni...</td>\n",
       "      <td>credit_card</td>\n",
       "      <td>completed</td>\n",
       "      <td>{'method': 'express', 'cost': 15.99, 'address'...</td>\n",
       "    </tr>\n",
       "    <tr>\n",
       "      <th>1</th>\n",
       "      <td>T123457</td>\n",
       "      <td>2024-01-15 14:45:00</td>\n",
       "      <td>{'id': 'CUS456', 'region': 'South', 'segment':...</td>\n",
       "      <td>[{'product_id': 'P234', 'category': 'Books', '...</td>\n",
       "      <td>paypal</td>\n",
       "      <td>completed</td>\n",
       "      <td>{'method': 'standard', 'cost': 5.99, 'address'...</td>\n",
       "    </tr>\n",
       "    <tr>\n",
       "      <th>2</th>\n",
       "      <td>T123458</td>\n",
       "      <td>2024-01-15 15:00:00</td>\n",
       "      <td>{'id': 'CUS789', 'region': 'West', 'segment': ...</td>\n",
       "      <td>[{'product_id': 'P789', 'category': 'Electroni...</td>\n",
       "      <td>credit_card</td>\n",
       "      <td>pending</td>\n",
       "      <td>{'method': 'express', 'cost': 25.99, 'address'...</td>\n",
       "    </tr>\n",
       "    <tr>\n",
       "      <th>3</th>\n",
       "      <td>T123459</td>\n",
       "      <td>2024-01-15 15:15:00</td>\n",
       "      <td>{'id': 'CUS101', 'region': 'East', 'segment': ...</td>\n",
       "      <td>[{'product_id': 'P333', 'category': 'Clothing'...</td>\n",
       "      <td>debit_card</td>\n",
       "      <td>completed</td>\n",
       "      <td>{'method': 'standard', 'cost': 7.99, 'address'...</td>\n",
       "    </tr>\n",
       "    <tr>\n",
       "      <th>4</th>\n",
       "      <td>T123460</td>\n",
       "      <td>2024-01-15 15:30:00</td>\n",
       "      <td>{'id': 'CUS202', 'region': 'North', 'segment':...</td>\n",
       "      <td>[{'product_id': 'P888', 'category': 'Home', 's...</td>\n",
       "      <td>gift_card</td>\n",
       "      <td>cancelled</td>\n",
       "      <td>{'method': 'standard', 'cost': 9.99, 'address'...</td>\n",
       "    </tr>\n",
       "  </tbody>\n",
       "</table>\n",
       "</div>"
      ],
      "text/plain": [
       "  transaction_id           timestamp  \\\n",
       "0        T123456 2024-01-15 14:30:00   \n",
       "1        T123457 2024-01-15 14:45:00   \n",
       "2        T123458 2024-01-15 15:00:00   \n",
       "3        T123459 2024-01-15 15:15:00   \n",
       "4        T123460 2024-01-15 15:30:00   \n",
       "\n",
       "                                            customer  \\\n",
       "0  {'id': 'CUS123', 'region': 'North', 'segment':...   \n",
       "1  {'id': 'CUS456', 'region': 'South', 'segment':...   \n",
       "2  {'id': 'CUS789', 'region': 'West', 'segment': ...   \n",
       "3  {'id': 'CUS101', 'region': 'East', 'segment': ...   \n",
       "4  {'id': 'CUS202', 'region': 'North', 'segment':...   \n",
       "\n",
       "                                               items payment_method  \\\n",
       "0  [{'product_id': 'P789', 'category': 'Electroni...    credit_card   \n",
       "1  [{'product_id': 'P234', 'category': 'Books', '...         paypal   \n",
       "2  [{'product_id': 'P789', 'category': 'Electroni...    credit_card   \n",
       "3  [{'product_id': 'P333', 'category': 'Clothing'...     debit_card   \n",
       "4  [{'product_id': 'P888', 'category': 'Home', 's...      gift_card   \n",
       "\n",
       "      status                                           shipping  \n",
       "0  completed  {'method': 'express', 'cost': 15.99, 'address'...  \n",
       "1  completed  {'method': 'standard', 'cost': 5.99, 'address'...  \n",
       "2    pending  {'method': 'express', 'cost': 25.99, 'address'...  \n",
       "3  completed  {'method': 'standard', 'cost': 7.99, 'address'...  \n",
       "4  cancelled  {'method': 'standard', 'cost': 9.99, 'address'...  "
      ]
     },
     "execution_count": 15,
     "metadata": {},
     "output_type": "execute_result"
    }
   ],
   "source": [
    "df = pd.read_json('sample-dataset-3.json')\n"
   ]
  },
  {
   "cell_type": "code",
   "execution_count": 24,
   "metadata": {},
   "outputs": [
    {
     "data": {
      "text/plain": [
       "dict_items([('id', 'CUS123'), ('region', 'North'), ('segment', 'Premium'), ('join_date', '2023-01-01')])"
      ]
     },
     "execution_count": 24,
     "metadata": {},
     "output_type": "execute_result"
    }
   ],
   "source": [
    "json_file[0]['customer'].items()"
   ]
  },
  {
   "cell_type": "code",
   "execution_count": 57,
   "metadata": {},
   "outputs": [],
   "source": [
    "\n",
    "\n",
    "#s = pd.DataFrame(data=val, columns=columns_list)"
   ]
  },
  {
   "cell_type": "code",
   "execution_count": 27,
   "metadata": {},
   "outputs": [
    {
     "data": {
      "text/html": [
       "<div>\n",
       "<style scoped>\n",
       "    .dataframe tbody tr th:only-of-type {\n",
       "        vertical-align: middle;\n",
       "    }\n",
       "\n",
       "    .dataframe tbody tr th {\n",
       "        vertical-align: top;\n",
       "    }\n",
       "\n",
       "    .dataframe thead th {\n",
       "        text-align: right;\n",
       "    }\n",
       "</style>\n",
       "<table border=\"1\" class=\"dataframe\">\n",
       "  <thead>\n",
       "    <tr style=\"text-align: right;\">\n",
       "      <th></th>\n",
       "      <th>0</th>\n",
       "      <th>1</th>\n",
       "    </tr>\n",
       "  </thead>\n",
       "  <tbody>\n",
       "    <tr>\n",
       "      <th>0</th>\n",
       "      <td>id</td>\n",
       "      <td>CUS123</td>\n",
       "    </tr>\n",
       "    <tr>\n",
       "      <th>1</th>\n",
       "      <td>region</td>\n",
       "      <td>North</td>\n",
       "    </tr>\n",
       "    <tr>\n",
       "      <th>2</th>\n",
       "      <td>segment</td>\n",
       "      <td>Premium</td>\n",
       "    </tr>\n",
       "    <tr>\n",
       "      <th>3</th>\n",
       "      <td>join_date</td>\n",
       "      <td>2023-01-01</td>\n",
       "    </tr>\n",
       "  </tbody>\n",
       "</table>\n",
       "</div>"
      ],
      "text/plain": [
       "           0           1\n",
       "0         id      CUS123\n",
       "1     region       North\n",
       "2    segment     Premium\n",
       "3  join_date  2023-01-01"
      ]
     },
     "execution_count": 27,
     "metadata": {},
     "output_type": "execute_result"
    }
   ],
   "source": [
    "s"
   ]
  },
  {
   "cell_type": "code",
   "execution_count": 54,
   "metadata": {},
   "outputs": [
    {
     "data": {
      "text/plain": [
       "['CUS123', 'North', 'Premium', '2023-01-01']"
      ]
     },
     "execution_count": 54,
     "metadata": {},
     "output_type": "execute_result"
    }
   ],
   "source": [
    "val = []\n",
    "for i in json_file[0]['customer'].values():\n",
    "    val.append(i)\n",
    "\n",
    "val"
   ]
  },
  {
   "cell_type": "code",
   "execution_count": 55,
   "metadata": {},
   "outputs": [
    {
     "data": {
      "text/plain": [
       "['id', 'region', 'segment', 'join_date']"
      ]
     },
     "execution_count": 55,
     "metadata": {},
     "output_type": "execute_result"
    }
   ],
   "source": [
    "columns_list =[] \n",
    "json_file[0]['customer'].keys()\n",
    "for i in json_file[0]['customer'].keys():\n",
    "    columns_list.append(i)\n",
    "\n",
    "columns_list"
   ]
  },
  {
   "cell_type": "code",
   "execution_count": 78,
   "metadata": {},
   "outputs": [
    {
     "ename": "TypeError",
     "evalue": "DataFrame.__init__() got an unexpected keyword argument 'ignore'",
     "output_type": "error",
     "traceback": [
      "\u001b[0;31m---------------------------------------------------------------------------\u001b[0m",
      "\u001b[0;31mTypeError\u001b[0m                                 Traceback (most recent call last)",
      "Cell \u001b[0;32mIn[78], line 4\u001b[0m\n\u001b[1;32m      1\u001b[0m \u001b[38;5;28;01mfrom\u001b[39;00m \u001b[38;5;21;01mflatten_json\u001b[39;00m \u001b[38;5;28;01mimport\u001b[39;00m flatten\n\u001b[1;32m      3\u001b[0m flat_json \u001b[38;5;241m=\u001b[39m flatten(json_file[\u001b[38;5;241m0\u001b[39m])\n\u001b[0;32m----> 4\u001b[0m cf \u001b[38;5;241m=\u001b[39m \u001b[43mpd\u001b[49m\u001b[38;5;241;43m.\u001b[39;49m\u001b[43mDataFrame\u001b[49m\u001b[43m(\u001b[49m\u001b[43mflat_json\u001b[49m\u001b[43m,\u001b[49m\u001b[43mignore\u001b[49m\u001b[43m \u001b[49m\u001b[38;5;241;43m=\u001b[39;49m\u001b[43m \u001b[49m\u001b[38;5;28;43;01mTrue\u001b[39;49;00m\u001b[43m)\u001b[49m\n",
      "\u001b[0;31mTypeError\u001b[0m: DataFrame.__init__() got an unexpected keyword argument 'ignore'"
     ]
    }
   ],
   "source": [
    "from flatten_json import flatten\n",
    "\n",
    "flat_json = flatten(json_file[0])\n",
    "cf = pd.DataFrame(flat_json)"
   ]
  },
  {
   "cell_type": "code",
   "execution_count": 66,
   "metadata": {},
   "outputs": [
    {
     "data": {
      "text/plain": [
       "[{'product_id': 'P789',\n",
       "  'category': 'Electronics',\n",
       "  'subcategory': 'Smartphones',\n",
       "  'price': 499.99,\n",
       "  'quantity': 1,\n",
       "  'discount': 50.0},\n",
       " {'product_id': 'P555',\n",
       "  'category': 'Electronics',\n",
       "  'subcategory': 'Tablets',\n",
       "  'price': 299.99,\n",
       "  'quantity': 1,\n",
       "  'discount': 0.0},\n",
       " {'product_id': 'P777',\n",
       "  'category': 'Electronics',\n",
       "  'subcategory': 'Headphones',\n",
       "  'price': 199.99,\n",
       "  'quantity': 2,\n",
       "  'discount': 25.0}]"
      ]
     },
     "execution_count": 66,
     "metadata": {},
     "output_type": "execute_result"
    }
   ],
   "source": [
    "json_file[2]['items']"
   ]
  },
  {
   "cell_type": "code",
   "execution_count": 76,
   "metadata": {},
   "outputs": [
    {
     "data": {
      "text/plain": [
       "{'transaction_id': 'T123460',\n",
       " 'timestamp': '2024-01-15T15:30:00',\n",
       " 'customer_id': 'CUS202',\n",
       " 'customer_region': 'North',\n",
       " 'customer_segment': 'Premium',\n",
       " 'customer_join_date': '2023-08-15',\n",
       " 'items_product_id': 'P888',\n",
       " 'items_category': 'Home',\n",
       " 'items_subcategory': 'Kitchen',\n",
       " 'items_price': 199.99,\n",
       " 'items_quantity': 1,\n",
       " 'items_discount': 20.0,\n",
       " 'payment_method': 'gift_card',\n",
       " 'status': 'cancelled',\n",
       " 'shipping_method': 'standard',\n",
       " 'shipping_cost': 9.99,\n",
       " 'shipping_address_city': 'Chicago',\n",
       " 'shipping_address_state': 'IL',\n",
       " 'shipping_address_country': 'USA'}"
      ]
     },
     "execution_count": 76,
     "metadata": {},
     "output_type": "execute_result"
    }
   ],
   "source": [
    "def flatten_json(y):\n",
    "    out = {}\n",
    " \n",
    "    def flatten(x, name=''):\n",
    " \n",
    "        # If the Nested key-value\n",
    "        # pair is of dict type\n",
    "        if type(x) is dict:\n",
    "            \n",
    "            for a in x:\n",
    "                flatten(x[a], name + a + '_')\n",
    " \n",
    "        # If the Nested key-value\n",
    "        # pair is of list type\n",
    "        elif type(x) is list:\n",
    " \n",
    "            i = 0\n",
    " \n",
    "            for a in x:\n",
    "                flatten(a, name)\n",
    "                \n",
    "                i += 1\n",
    "        else:\n",
    "            out[name[:-1]] = x\n",
    " \n",
    "    flatten(y)\n",
    "    return out\n",
    " \n",
    " \n",
    "# Driver code\n",
    "cf = flatten_json(json_file)\n",
    "cf"
   ]
  },
  {
   "cell_type": "code",
   "execution_count": 72,
   "metadata": {},
   "outputs": [
    {
     "data": {
      "text/plain": [
       "5"
      ]
     },
     "execution_count": 72,
     "metadata": {},
     "output_type": "execute_result"
    }
   ],
   "source": [
    "len(json_file)"
   ]
  },
  {
   "cell_type": "code",
   "execution_count": 83,
   "metadata": {},
   "outputs": [
    {
     "name": "stdout",
     "output_type": "stream",
     "text": [
      "{'transaction_id': 'T123456', 'timestamp': '2024-01-15T14:30:00', 'customer': {'id': 'CUS123', 'region': 'North', 'segment': 'Premium', 'join_date': '2023-01-01'}, 'items': [{'product_id': 'P789', 'category': 'Electronics', 'subcategory': 'Smartphones', 'price': 499.99, 'quantity': 1, 'discount': 0.0}, {'product_id': 'P456', 'category': 'Accessories', 'subcategory': 'Phone Cases', 'price': 29.99, 'quantity': 2, 'discount': 5.0}], 'payment_method': 'credit_card', 'status': 'completed', 'shipping': {'method': 'express', 'cost': 15.99, 'address': {'city': 'Boston', 'state': 'MA', 'country': 'USA'}}}\n",
      "{'transaction_id': 'T123457', 'timestamp': '2024-01-15T14:45:00', 'customer': {'id': 'CUS456', 'region': 'South', 'segment': 'Standard', 'join_date': '2023-06-15'}, 'items': [{'product_id': 'P234', 'category': 'Books', 'subcategory': 'Fiction', 'price': 24.99, 'quantity': 3, 'discount': 10.0}], 'payment_method': 'paypal', 'status': 'completed', 'shipping': {'method': 'standard', 'cost': 5.99, 'address': {'city': 'Miami', 'state': 'FL', 'country': 'USA'}}}\n",
      "{'transaction_id': 'T123458', 'timestamp': '2024-01-15T15:00:00', 'customer': {'id': 'CUS789', 'region': 'West', 'segment': 'Premium', 'join_date': '2022-03-20'}, 'items': [{'product_id': 'P789', 'category': 'Electronics', 'subcategory': 'Smartphones', 'price': 499.99, 'quantity': 1, 'discount': 50.0}, {'product_id': 'P555', 'category': 'Electronics', 'subcategory': 'Tablets', 'price': 299.99, 'quantity': 1, 'discount': 0.0}, {'product_id': 'P777', 'category': 'Electronics', 'subcategory': 'Headphones', 'price': 199.99, 'quantity': 2, 'discount': 25.0}], 'payment_method': 'credit_card', 'status': 'pending', 'shipping': {'method': 'express', 'cost': 25.99, 'address': {'city': 'Los Angeles', 'state': 'CA', 'country': 'USA'}}}\n",
      "{'transaction_id': 'T123459', 'timestamp': '2024-01-15T15:15:00', 'customer': {'id': 'CUS101', 'region': 'East', 'segment': 'Standard', 'join_date': '2024-01-01'}, 'items': [{'product_id': 'P333', 'category': 'Clothing', 'subcategory': 'Shirts', 'price': 39.99, 'quantity': 2, 'discount': 15.0}, {'product_id': 'P444', 'category': 'Clothing', 'subcategory': 'Pants', 'price': 59.99, 'quantity': 1, 'discount': 0.0}], 'payment_method': 'debit_card', 'status': 'completed', 'shipping': {'method': 'standard', 'cost': 7.99, 'address': {'city': 'New York', 'state': 'NY', 'country': 'USA'}}}\n",
      "{'transaction_id': 'T123460', 'timestamp': '2024-01-15T15:30:00', 'customer': {'id': 'CUS202', 'region': 'North', 'segment': 'Premium', 'join_date': '2023-08-15'}, 'items': [{'product_id': 'P888', 'category': 'Home', 'subcategory': 'Kitchen', 'price': 199.99, 'quantity': 1, 'discount': 20.0}], 'payment_method': 'gift_card', 'status': 'cancelled', 'shipping': {'method': 'standard', 'cost': 9.99, 'address': {'city': 'Chicago', 'state': 'IL', 'country': 'USA'}}}\n"
     ]
    }
   ],
   "source": [
    "for i in range(len(json_file)):\n",
    "    print(json_file[i])"
   ]
  },
  {
   "cell_type": "code",
   "execution_count": null,
   "metadata": {},
   "outputs": [],
   "source": []
  }
 ],
 "metadata": {
  "kernelspec": {
   "display_name": "dec19venv",
   "language": "python",
   "name": "python3"
  },
  "language_info": {
   "codemirror_mode": {
    "name": "ipython",
    "version": 3
   },
   "file_extension": ".py",
   "mimetype": "text/x-python",
   "name": "python",
   "nbconvert_exporter": "python",
   "pygments_lexer": "ipython3",
   "version": "3.12.3"
  }
 },
 "nbformat": 4,
 "nbformat_minor": 2
}
