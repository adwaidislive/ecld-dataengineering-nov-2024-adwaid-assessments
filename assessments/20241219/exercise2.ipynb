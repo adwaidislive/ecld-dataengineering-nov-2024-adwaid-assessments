{
 "cells": [
  {
   "cell_type": "code",
   "execution_count": 103,
   "metadata": {},
   "outputs": [],
   "source": [
    "import json\n",
    "import pandas as pd"
   ]
  },
  {
   "cell_type": "code",
   "execution_count": 10,
   "metadata": {},
   "outputs": [
    {
     "data": {
      "text/plain": [
       "{'tables': [{'name': 'customers',\n",
       "   'columns': [{'name': 'customer_id',\n",
       "     'type': 'string',\n",
       "     'required': True,\n",
       "     'validation': {'pattern': '^CUS[0-9]{6}$'}},\n",
       "    {'name': 'purchase_amount',\n",
       "     'type': 'decimal',\n",
       "     'required': True,\n",
       "     'validation': {'min': 0, 'max': 1000000}}]}]}"
      ]
     },
     "execution_count": 10,
     "metadata": {},
     "output_type": "execute_result"
    }
   ],
   "source": [
    "schema = json.load(open(\"sample_schema.json\"))\n",
    "\n",
    "schema"
   ]
  },
  {
   "cell_type": "code",
   "execution_count": 23,
   "metadata": {},
   "outputs": [
    {
     "data": {
      "text/plain": [
       "'customers'"
      ]
     },
     "execution_count": 23,
     "metadata": {},
     "output_type": "execute_result"
    }
   ],
   "source": [
    "schema['tables'][0]['name']"
   ]
  },
  {
   "cell_type": "code",
   "execution_count": 31,
   "metadata": {},
   "outputs": [
    {
     "data": {
      "text/plain": [
       "'purchase_amount'"
      ]
     },
     "execution_count": 31,
     "metadata": {},
     "output_type": "execute_result"
    }
   ],
   "source": [
    "schema['tables'][0]['columns'][1]['name']"
   ]
  },
  {
   "cell_type": "code",
   "execution_count": 36,
   "metadata": {},
   "outputs": [
    {
     "data": {
      "text/plain": [
       "[{'name': 'customer_id',\n",
       "  'type': 'string',\n",
       "  'required': True,\n",
       "  'validation': {'pattern': '^CUS[0-9]{6}$'}},\n",
       " {'name': 'purchase_amount',\n",
       "  'type': 'decimal',\n",
       "  'required': True,\n",
       "  'validation': {'min': 0, 'max': 1000000}}]"
      ]
     },
     "execution_count": 36,
     "metadata": {},
     "output_type": "execute_result"
    }
   ],
   "source": [
    "schema['tables'][0]['columns']"
   ]
  },
  {
   "cell_type": "code",
   "execution_count": 41,
   "metadata": {},
   "outputs": [
    {
     "name": "stdout",
     "output_type": "stream",
     "text": [
      "customers table and their column specifications [{'name': 'customer_id', 'type': 'string', 'required': True, 'validation': {'pattern': '^CUS[0-9]{6}$'}}, {'name': 'purchase_amount', 'type': 'decimal', 'required': True, 'validation': {'min': 0, 'max': 1000000}}]\n"
     ]
    }
   ],
   "source": [
    "def column_details(schema):\n",
    "    t = len(schema['tables']) # No of tables in the schema\n",
    "    table_name = []\n",
    "    columns = []\n",
    "    for i in range(t):\n",
    "        table_name.append(schema['tables'][i]['name'])\n",
    "        n = len(schema['tables'][i]['columns']) # No of columns in the table\n",
    "\n",
    "        print(f'{schema['tables'][i]['name']} table and their column specifications {schema['tables'][i]['columns']}') # mapping of table names to their column specifications\n",
    "        for j in range(n):\n",
    "            columns.insert(i,(schema['tables'][i]['columns'][j]['name']))\n",
    "\n",
    "    return table_name, columns\n",
    "\n",
    "table_name, columns = column_details(schema)\n"
   ]
  },
  {
   "cell_type": "code",
   "execution_count": 48,
   "metadata": {},
   "outputs": [],
   "source": [
    "def filter_column(columns):\n",
    "    return list(filter(lambda x: x, columns))"
   ]
  },
  {
   "cell_type": "code",
   "execution_count": 49,
   "metadata": {},
   "outputs": [
    {
     "data": {
      "text/plain": [
       "['purchase_amount', 'customer_id']"
      ]
     },
     "execution_count": 49,
     "metadata": {},
     "output_type": "execute_result"
    }
   ],
   "source": [
    "columns"
   ]
  },
  {
   "cell_type": "code",
   "execution_count": 50,
   "metadata": {},
   "outputs": [
    {
     "data": {
      "text/plain": [
       "['purchase_amount', 'customer_id']"
      ]
     },
     "execution_count": 50,
     "metadata": {},
     "output_type": "execute_result"
    }
   ],
   "source": [
    "filter_column(columns)"
   ]
  },
  {
   "cell_type": "code",
   "execution_count": 74,
   "metadata": {},
   "outputs": [
    {
     "data": {
      "text/plain": [
       "0"
      ]
     },
     "execution_count": 74,
     "metadata": {},
     "output_type": "execute_result"
    }
   ],
   "source": [
    "a = schema['tables'][0]['columns'][1]['validation']\n",
    "a['min']"
   ]
  },
  {
   "cell_type": "code",
   "execution_count": 75,
   "metadata": {},
   "outputs": [
    {
     "data": {
      "text/plain": [
       "{'pattern': '^CUS[0-9]{6}$'}"
      ]
     },
     "execution_count": 75,
     "metadata": {},
     "output_type": "execute_result"
    }
   ],
   "source": [
    "schema['tables'][0]['columns'][0]['validation']"
   ]
  },
  {
   "cell_type": "code",
   "execution_count": 79,
   "metadata": {},
   "outputs": [
    {
     "data": {
      "text/plain": [
       "'customer_id'"
      ]
     },
     "execution_count": 79,
     "metadata": {},
     "output_type": "execute_result"
    }
   ],
   "source": [
    "schema['tables'][0]['columns'][0]['name']"
   ]
  },
  {
   "cell_type": "code",
   "execution_count": 80,
   "metadata": {},
   "outputs": [
    {
     "data": {
      "text/plain": [
       "'string'"
      ]
     },
     "execution_count": 80,
     "metadata": {},
     "output_type": "execute_result"
    }
   ],
   "source": [
    "schema['tables'][0]['columns'][0]['type']"
   ]
  },
  {
   "cell_type": "code",
   "execution_count": 88,
   "metadata": {},
   "outputs": [
    {
     "data": {
      "text/plain": [
       "{'name': 'purchase_amount',\n",
       " 'type': 'decimal',\n",
       " 'required': True,\n",
       " 'validation': {'min': 0, 'max': 1000000}}"
      ]
     },
     "execution_count": 88,
     "metadata": {},
     "output_type": "execute_result"
    }
   ],
   "source": [
    "schema['tables'][0]['columns'][1]"
   ]
  },
  {
   "cell_type": "code",
   "execution_count": 114,
   "metadata": {},
   "outputs": [],
   "source": [
    "def validation(schema,data,column_details):\n",
    "\n",
    "    val_errors = pd.DataFrame({'Error_severity':[],'Table_Name' : [], 'Column_Name': [] , 'Error_Type ' : []})\n",
    "    t = len(schema['tables']) # No of tables in the schema\n",
    "    l = len(schema['tables'][i]['columns']) # No of columns in the table\n",
    "\n",
    "\n",
    "    # Iterating through tables\n",
    "    for i in range(t):\n",
    "        table_name = schema['tables'][i]['name']\n",
    "\n",
    "        for i in range(l): # Iterating through columns\n",
    "            if (column_details==(schema['tables'][table_no]['columns'][i]['name'])): # Checking the name of column which we want to validate\n",
    "                n = i \n",
    "    \n",
    "        # Iterating through datas to validate data\n",
    "        for i in range(len(data)):\n",
    "\n",
    "            # Checking Data Type\n",
    "            if (type(data.iloc[i])!=schema['tables'][table_no]['columns'][n]['type']):\n",
    "                new_row = pd.DataFrame({'Error_severity':['High'],\n",
    "                                        'Table_Name' : [table_name], \n",
    "                                        'Column_Name': [schema['tables'][table_no]['columns'][i]['name']] , \n",
    "                                        'Error_Type ' : ['Data Type']})\n",
    "                val_errors = pd.concat([val_errors,new_row], ignore_index=True)\n",
    "\n",
    "            \n",
    "            # Checking Values\n",
    "            if ((data.iloc[i]) in schema['tables'][table_no]['columns'][n]['validation']):\n",
    "                new_row = pd.DataFrame({'Error_severity':['Medium'],\n",
    "                                        'Table_Name' : [table_name], \n",
    "                                        'Column_Name': [schema['tables'][table_no]['columns'][i]['name']] , \n",
    "                                        'Error_Type ' : ['Values']})\n",
    "                val_errors = pd.concat([val_errors,new_row], ignore_index=True)\n",
    "    \n",
    "\n",
    "    return val_errors\n",
    "            \n",
    "\n",
    "                \n",
    "        "
   ]
  },
  {
   "cell_type": "code",
   "execution_count": 113,
   "metadata": {},
   "outputs": [
    {
     "data": {
      "text/html": [
       "<div>\n",
       "<style scoped>\n",
       "    .dataframe tbody tr th:only-of-type {\n",
       "        vertical-align: middle;\n",
       "    }\n",
       "\n",
       "    .dataframe tbody tr th {\n",
       "        vertical-align: top;\n",
       "    }\n",
       "\n",
       "    .dataframe thead th {\n",
       "        text-align: right;\n",
       "    }\n",
       "</style>\n",
       "<table border=\"1\" class=\"dataframe\">\n",
       "  <thead>\n",
       "    <tr style=\"text-align: right;\">\n",
       "      <th></th>\n",
       "      <th>Error_severity</th>\n",
       "      <th>Table_Name</th>\n",
       "      <th>Column_Name</th>\n",
       "    </tr>\n",
       "  </thead>\n",
       "  <tbody>\n",
       "  </tbody>\n",
       "</table>\n",
       "</div>"
      ],
      "text/plain": [
       "Empty DataFrame\n",
       "Columns: [Error_severity, Table_Name, Column_Name]\n",
       "Index: []"
      ]
     },
     "execution_count": 113,
     "metadata": {},
     "output_type": "execute_result"
    }
   ],
   "source": [
    "val_errors = pd.DataFrame({'Error_severity':[],'Table_Name' : [], 'Column_Name': [] })\n",
    "val_errors"
   ]
  },
  {
   "cell_type": "code",
   "execution_count": null,
   "metadata": {},
   "outputs": [],
   "source": [
    "val_errors.sort_values(by=column_name, ascending=True)"
   ]
  }
 ],
 "metadata": {
  "kernelspec": {
   "display_name": "dec19venv",
   "language": "python",
   "name": "python3"
  },
  "language_info": {
   "codemirror_mode": {
    "name": "ipython",
    "version": 3
   },
   "file_extension": ".py",
   "mimetype": "text/x-python",
   "name": "python",
   "nbconvert_exporter": "python",
   "pygments_lexer": "ipython3",
   "version": "3.12.3"
  }
 },
 "nbformat": 4,
 "nbformat_minor": 2
}
