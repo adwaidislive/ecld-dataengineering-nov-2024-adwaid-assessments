{
 "cells": [
  {
   "cell_type": "markdown",
   "metadata": {},
   "source": [
    "# Exercise 2: Data Schema Validator"
   ]
  },
  {
   "cell_type": "markdown",
   "metadata": {},
   "source": [
    "### Importing libraries and schema"
   ]
  },
  {
   "cell_type": "code",
   "execution_count": 1,
   "metadata": {},
   "outputs": [],
   "source": [
    "import json\n",
    "import pandas as pd\n",
    "import re\n",
    "\n",
    "schema = { \n",
    "    \"tables\": \n",
    "    [ \n",
    "        { \n",
    "            \"name\": \"customers\", \n",
    "            \"columns\": [ \n",
    "                { \n",
    "                    \"name\": \"customer_id\", \n",
    "                    \"type\": \"string\", \n",
    "                    \"required\": True, \n",
    "                    \"validation\": { \n",
    "                        \"pattern\": \"^CUS[0-9]{6}$\" \n",
    "                    } \n",
    "                }, \n",
    "                { \n",
    "                    \"name\": \"purchase_amount\", \n",
    "                    \"type\": \"decimal\", \n",
    "                    \"required\": True, \n",
    "                    \"validation\": { \n",
    "                        \"min\": 0, \n",
    "                        \"max\": 1000000 \n",
    "                    } \n",
    "                } \n",
    "            ] \n",
    "        } \n",
    "    ] \n",
    "}\n",
    "\n"
   ]
  },
  {
   "cell_type": "markdown",
   "metadata": {},
   "source": [
    "### 1. Create a function that extracts column details from the schema file:\n",
    "- Use lambda functions to transform complex column definitions\n",
    "- Create a mapping of table names to their column specifications"
   ]
  },
  {
   "cell_type": "code",
   "execution_count": 2,
   "metadata": {},
   "outputs": [],
   "source": [
    "def column_details(schema):\n",
    "    transform_columns = lambda columns: [{'column_name': col['name'], 'column_type': col['type'], 'validation': col.get('validation', {})} for col in columns]\n",
    "\n",
    "    table_details = {table['name']: transform_columns(table['columns']) for table in schema['tables']}\n",
    "    \n",
    "    return table_details\n"
   ]
  },
  {
   "cell_type": "code",
   "execution_count": 3,
   "metadata": {},
   "outputs": [
    {
     "data": {
      "text/plain": [
       "{'customers': [{'column_name': 'customer_id',\n",
       "   'column_type': 'string',\n",
       "   'validation': {'pattern': '^CUS[0-9]{6}$'}},\n",
       "  {'column_name': 'purchase_amount',\n",
       "   'column_type': 'decimal',\n",
       "   'validation': {'min': 0, 'max': 1000000}}]}"
      ]
     },
     "execution_count": 3,
     "metadata": {},
     "output_type": "execute_result"
    }
   ],
   "source": [
    "column_details(schema)"
   ]
  },
  {
   "cell_type": "markdown",
   "metadata": {},
   "source": [
    "###  2. Create a validation function that:\n",
    "- Filters required columns using filter() and lambda\n",
    "- Validates data types and constraints\n",
    "- Returns validation errors in a structured format"
   ]
  },
  {
   "cell_type": "code",
   "execution_count": 4,
   "metadata": {},
   "outputs": [],
   "source": [
    "def filter_column(columns):\n",
    "    return list(filter(lambda x: x, columns))"
   ]
  },
  {
   "cell_type": "code",
   "execution_count": 5,
   "metadata": {},
   "outputs": [],
   "source": [
    "def validation(schema, data):\n",
    "    val_errors = pd.DataFrame({'Error_severity': [], 'Table_Name': [], 'Column_Name': [], 'Error_Type': []})\n",
    "    \n",
    "    # Iterating through each table in the schema\n",
    "    for table in schema['tables']:\n",
    "        table_name = table['name']\n",
    "        \n",
    "        # Iterating through columns in the table\n",
    "        for column in table['columns']:\n",
    "            column_name = column['name']\n",
    "            column_type = column['type']\n",
    "            is_required = column.get('required', False)\n",
    "            validation_rules = column.get('validation', {})\n",
    "            \n",
    "            # Checking data for the column\n",
    "            for idx, value in data[column_name].items():\n",
    "                # Checking for required fields\n",
    "                if is_required and pd.isnull(value):\n",
    "                    val_errors = pd.concat([val_errors, pd.DataFrame({\n",
    "                        'Error_severity': ['High'],\n",
    "                        'Table_Name': [table_name],\n",
    "                        'Column_Name': [column_name],\n",
    "                        'Error_Type': ['Missing Value']\n",
    "                    })], ignore_index=True)\n",
    "                    continue\n",
    "                \n",
    "                # Checking data type\n",
    "                if column_type == \"string\" and not isinstance(value, str):\n",
    "                    val_errors = pd.concat([val_errors, pd.DataFrame({\n",
    "                        'Error_severity': ['High'],\n",
    "                        'Table_Name': [table_name],\n",
    "                        'Column_Name': [column_name],\n",
    "                        'Error_Type': ['Data Type']\n",
    "                    })], ignore_index=True)\n",
    "                elif column_type == \"decimal\" and not isinstance(value, (float, int)):\n",
    "                    val_errors = pd.concat([val_errors, pd.DataFrame({\n",
    "                        'Error_severity': ['High'],\n",
    "                        'Table_Name': [table_name],\n",
    "                        'Column_Name': [column_name],\n",
    "                        'Error_Type': ['Data Type']\n",
    "                    })], ignore_index=True)\n",
    "                \n",
    "                # Applying validation rules\n",
    "                if 'pattern' in validation_rules:\n",
    "                    if not re.match(validation_rules['pattern'], str(value)):\n",
    "                        val_errors = pd.concat([val_errors, pd.DataFrame({\n",
    "                            'Error_severity': ['Medium'],\n",
    "                            'Table_Name': [table_name],\n",
    "                            'Column_Name': [column_name],\n",
    "                            'Error_Type': ['Pattern Mismatch']\n",
    "                        })], ignore_index=True)\n",
    "                \n",
    "                if 'min' in validation_rules or 'max' in validation_rules:\n",
    "                    if isinstance(value, (int, float)):\n",
    "                        if value < validation_rules['min'] or value > validation_rules['max']:\n",
    "                            val_errors = pd.concat([val_errors, pd.DataFrame({\n",
    "                                'Error_severity': ['Medium'],\n",
    "                                'Table_Name': [table_name],\n",
    "                                'Column_Name': [column_name],\n",
    "                                'Error_Type': ['Value Out of Range']\n",
    "                            })], ignore_index=True)\n",
    "    \n",
    "    return val_errors\n"
   ]
  },
  {
   "cell_type": "markdown",
   "metadata": {},
   "source": [
    "### 3. Create a function that sorts validation errors by:\n",
    "- Error severity\n",
    "- Table name\n",
    "- Column name"
   ]
  },
  {
   "cell_type": "code",
   "execution_count": 6,
   "metadata": {},
   "outputs": [],
   "source": [
    "def val_error_sort(val_errors, column_name='Error_severity'):\n",
    "    return val_errors.sort_values(by=column_name, ascending=True,ignore_index=True)"
   ]
  },
  {
   "cell_type": "markdown",
   "metadata": {},
   "source": [
    "### TEST CASES TO CHECK"
   ]
  },
  {
   "cell_type": "code",
   "execution_count": 7,
   "metadata": {},
   "outputs": [],
   "source": [
    "test_case_1 = pd.DataFrame({\n",
    "    \"customer_id\": [\"CUS123456\", \"CUS654321\", \"CUS000001\"],\n",
    "    \"purchase_amount\": [100.0, 999999.99, 500000.0]\n",
    "})\n"
   ]
  },
  {
   "cell_type": "code",
   "execution_count": 8,
   "metadata": {},
   "outputs": [],
   "source": [
    "test_case_2 = pd.DataFrame({\n",
    "    \"customer_id\": [\"CUS12345\", \"INVALID_ID\", None],  \n",
    "    \"purchase_amount\": [-100.0, 2000000.0, None]    \n",
    "})\n"
   ]
  },
  {
   "cell_type": "code",
   "execution_count": 9,
   "metadata": {},
   "outputs": [
    {
     "data": {
      "text/html": [
       "<div>\n",
       "<style scoped>\n",
       "    .dataframe tbody tr th:only-of-type {\n",
       "        vertical-align: middle;\n",
       "    }\n",
       "\n",
       "    .dataframe tbody tr th {\n",
       "        vertical-align: top;\n",
       "    }\n",
       "\n",
       "    .dataframe thead th {\n",
       "        text-align: right;\n",
       "    }\n",
       "</style>\n",
       "<table border=\"1\" class=\"dataframe\">\n",
       "  <thead>\n",
       "    <tr style=\"text-align: right;\">\n",
       "      <th></th>\n",
       "      <th>Error_severity</th>\n",
       "      <th>Table_Name</th>\n",
       "      <th>Column_Name</th>\n",
       "      <th>Error_Type</th>\n",
       "    </tr>\n",
       "  </thead>\n",
       "  <tbody>\n",
       "    <tr>\n",
       "      <th>0</th>\n",
       "      <td>Medium</td>\n",
       "      <td>customers</td>\n",
       "      <td>customer_id</td>\n",
       "      <td>Pattern Mismatch</td>\n",
       "    </tr>\n",
       "    <tr>\n",
       "      <th>1</th>\n",
       "      <td>Medium</td>\n",
       "      <td>customers</td>\n",
       "      <td>customer_id</td>\n",
       "      <td>Pattern Mismatch</td>\n",
       "    </tr>\n",
       "    <tr>\n",
       "      <th>2</th>\n",
       "      <td>High</td>\n",
       "      <td>customers</td>\n",
       "      <td>customer_id</td>\n",
       "      <td>Missing Value</td>\n",
       "    </tr>\n",
       "    <tr>\n",
       "      <th>3</th>\n",
       "      <td>Medium</td>\n",
       "      <td>customers</td>\n",
       "      <td>purchase_amount</td>\n",
       "      <td>Value Out of Range</td>\n",
       "    </tr>\n",
       "    <tr>\n",
       "      <th>4</th>\n",
       "      <td>Medium</td>\n",
       "      <td>customers</td>\n",
       "      <td>purchase_amount</td>\n",
       "      <td>Value Out of Range</td>\n",
       "    </tr>\n",
       "    <tr>\n",
       "      <th>5</th>\n",
       "      <td>High</td>\n",
       "      <td>customers</td>\n",
       "      <td>purchase_amount</td>\n",
       "      <td>Missing Value</td>\n",
       "    </tr>\n",
       "  </tbody>\n",
       "</table>\n",
       "</div>"
      ],
      "text/plain": [
       "  Error_severity Table_Name      Column_Name          Error_Type\n",
       "0         Medium  customers      customer_id    Pattern Mismatch\n",
       "1         Medium  customers      customer_id    Pattern Mismatch\n",
       "2           High  customers      customer_id       Missing Value\n",
       "3         Medium  customers  purchase_amount  Value Out of Range\n",
       "4         Medium  customers  purchase_amount  Value Out of Range\n",
       "5           High  customers  purchase_amount       Missing Value"
      ]
     },
     "execution_count": 9,
     "metadata": {},
     "output_type": "execute_result"
    }
   ],
   "source": [
    "df = validation(schema,test_case_2)\n",
    "df"
   ]
  },
  {
   "cell_type": "code",
   "execution_count": 10,
   "metadata": {},
   "outputs": [
    {
     "data": {
      "text/html": [
       "<div>\n",
       "<style scoped>\n",
       "    .dataframe tbody tr th:only-of-type {\n",
       "        vertical-align: middle;\n",
       "    }\n",
       "\n",
       "    .dataframe tbody tr th {\n",
       "        vertical-align: top;\n",
       "    }\n",
       "\n",
       "    .dataframe thead th {\n",
       "        text-align: right;\n",
       "    }\n",
       "</style>\n",
       "<table border=\"1\" class=\"dataframe\">\n",
       "  <thead>\n",
       "    <tr style=\"text-align: right;\">\n",
       "      <th></th>\n",
       "      <th>Error_severity</th>\n",
       "      <th>Table_Name</th>\n",
       "      <th>Column_Name</th>\n",
       "      <th>Error_Type</th>\n",
       "    </tr>\n",
       "  </thead>\n",
       "  <tbody>\n",
       "    <tr>\n",
       "      <th>0</th>\n",
       "      <td>High</td>\n",
       "      <td>customers</td>\n",
       "      <td>customer_id</td>\n",
       "      <td>Missing Value</td>\n",
       "    </tr>\n",
       "    <tr>\n",
       "      <th>1</th>\n",
       "      <td>High</td>\n",
       "      <td>customers</td>\n",
       "      <td>purchase_amount</td>\n",
       "      <td>Missing Value</td>\n",
       "    </tr>\n",
       "    <tr>\n",
       "      <th>2</th>\n",
       "      <td>Medium</td>\n",
       "      <td>customers</td>\n",
       "      <td>customer_id</td>\n",
       "      <td>Pattern Mismatch</td>\n",
       "    </tr>\n",
       "    <tr>\n",
       "      <th>3</th>\n",
       "      <td>Medium</td>\n",
       "      <td>customers</td>\n",
       "      <td>customer_id</td>\n",
       "      <td>Pattern Mismatch</td>\n",
       "    </tr>\n",
       "    <tr>\n",
       "      <th>4</th>\n",
       "      <td>Medium</td>\n",
       "      <td>customers</td>\n",
       "      <td>purchase_amount</td>\n",
       "      <td>Value Out of Range</td>\n",
       "    </tr>\n",
       "    <tr>\n",
       "      <th>5</th>\n",
       "      <td>Medium</td>\n",
       "      <td>customers</td>\n",
       "      <td>purchase_amount</td>\n",
       "      <td>Value Out of Range</td>\n",
       "    </tr>\n",
       "  </tbody>\n",
       "</table>\n",
       "</div>"
      ],
      "text/plain": [
       "  Error_severity Table_Name      Column_Name          Error_Type\n",
       "0           High  customers      customer_id       Missing Value\n",
       "1           High  customers  purchase_amount       Missing Value\n",
       "2         Medium  customers      customer_id    Pattern Mismatch\n",
       "3         Medium  customers      customer_id    Pattern Mismatch\n",
       "4         Medium  customers  purchase_amount  Value Out of Range\n",
       "5         Medium  customers  purchase_amount  Value Out of Range"
      ]
     },
     "execution_count": 10,
     "metadata": {},
     "output_type": "execute_result"
    }
   ],
   "source": [
    "val_error_sort(df)"
   ]
  }
 ],
 "metadata": {
  "kernelspec": {
   "display_name": "Python 3",
   "language": "python",
   "name": "python3"
  },
  "language_info": {
   "codemirror_mode": {
    "name": "ipython",
    "version": 3
   },
   "file_extension": ".py",
   "mimetype": "text/x-python",
   "name": "python",
   "nbconvert_exporter": "python",
   "pygments_lexer": "ipython3",
   "version": "3.10.10"
  }
 },
 "nbformat": 4,
 "nbformat_minor": 2
}
