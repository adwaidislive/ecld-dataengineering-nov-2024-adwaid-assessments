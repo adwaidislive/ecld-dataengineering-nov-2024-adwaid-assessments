{
 "cells": [
  {
   "cell_type": "code",
   "execution_count": 4,
   "metadata": {},
   "outputs": [],
   "source": [
    "import pandas as pd\n",
    "import json\n",
    "\n",
    "file = open('sample-dataset-1.json', 'r')\n",
    "j_file = json.load(file)\n"
   ]
  },
  {
   "cell_type": "code",
   "execution_count": 9,
   "metadata": {},
   "outputs": [
    {
     "data": {
      "text/plain": [
       "dict"
      ]
     },
     "execution_count": 9,
     "metadata": {},
     "output_type": "execute_result"
    }
   ],
   "source": [
    "type(j_file[1])"
   ]
  },
  {
   "cell_type": "code",
   "execution_count": 13,
   "metadata": {},
   "outputs": [
    {
     "data": {
      "text/html": [
       "<div>\n",
       "<style scoped>\n",
       "    .dataframe tbody tr th:only-of-type {\n",
       "        vertical-align: middle;\n",
       "    }\n",
       "\n",
       "    .dataframe tbody tr th {\n",
       "        vertical-align: top;\n",
       "    }\n",
       "\n",
       "    .dataframe thead th {\n",
       "        text-align: right;\n",
       "    }\n",
       "</style>\n",
       "<table border=\"1\" class=\"dataframe\">\n",
       "  <thead>\n",
       "    <tr style=\"text-align: right;\">\n",
       "      <th></th>\n",
       "      <th>timestamp</th>\n",
       "      <th>server_id</th>\n",
       "      <th>event_type</th>\n",
       "      <th>metrics</th>\n",
       "      <th>status</th>\n",
       "      <th>priority</th>\n",
       "      <th>message</th>\n",
       "    </tr>\n",
       "  </thead>\n",
       "  <tbody>\n",
       "    <tr>\n",
       "      <th>0</th>\n",
       "      <td>2024-01-15 10:30:00</td>\n",
       "      <td>srv-001</td>\n",
       "      <td>performance</td>\n",
       "      <td>{'cpu_usage': 85.5, 'memory_usage': 90.2, 'dis...</td>\n",
       "      <td>warning</td>\n",
       "      <td>high</td>\n",
       "      <td>High CPU utilization detected</td>\n",
       "    </tr>\n",
       "    <tr>\n",
       "      <th>1</th>\n",
       "      <td>2024-01-15 10:31:00</td>\n",
       "      <td>srv-002</td>\n",
       "      <td>security</td>\n",
       "      <td>{'cpu_usage': 45.2, 'memory_usage': 60.8, 'dis...</td>\n",
       "      <td>critical</td>\n",
       "      <td>high</td>\n",
       "      <td>Failed login attempts exceeded threshold</td>\n",
       "    </tr>\n",
       "    <tr>\n",
       "      <th>2</th>\n",
       "      <td>2024-01-15 10:32:00</td>\n",
       "      <td>srv-001</td>\n",
       "      <td>performance</td>\n",
       "      <td>{'cpu_usage': 92.3, 'memory_usage': 95.5, 'dis...</td>\n",
       "      <td>critical</td>\n",
       "      <td>high</td>\n",
       "      <td>System resources near exhaustion</td>\n",
       "    </tr>\n",
       "    <tr>\n",
       "      <th>3</th>\n",
       "      <td>2024-01-15 10:33:00</td>\n",
       "      <td>srv-003</td>\n",
       "      <td>application</td>\n",
       "      <td>{'cpu_usage': 55.5, 'memory_usage': 45.2, 'dis...</td>\n",
       "      <td>info</td>\n",
       "      <td>low</td>\n",
       "      <td>Application deployment completed</td>\n",
       "    </tr>\n",
       "    <tr>\n",
       "      <th>4</th>\n",
       "      <td>2024-01-15 10:34:00</td>\n",
       "      <td>srv-002</td>\n",
       "      <td>network</td>\n",
       "      <td>{'cpu_usage': 78.4, 'memory_usage': 82.3, 'dis...</td>\n",
       "      <td>warning</td>\n",
       "      <td>medium</td>\n",
       "      <td>Network latency increased</td>\n",
       "    </tr>\n",
       "    <tr>\n",
       "      <th>5</th>\n",
       "      <td>2024-01-15 10:35:00</td>\n",
       "      <td>srv-004</td>\n",
       "      <td>performance</td>\n",
       "      <td>{'cpu_usage': 88.7, 'memory_usage': 75.6, 'dis...</td>\n",
       "      <td>warning</td>\n",
       "      <td>high</td>\n",
       "      <td>Disk usage approaching capacity</td>\n",
       "    </tr>\n",
       "    <tr>\n",
       "      <th>6</th>\n",
       "      <td>2024-01-15 10:36:00</td>\n",
       "      <td>srv-001</td>\n",
       "      <td>security</td>\n",
       "      <td>{'cpu_usage': 65.4, 'memory_usage': 70.2, 'dis...</td>\n",
       "      <td>warning</td>\n",
       "      <td>medium</td>\n",
       "      <td>SSL certificate expiring soon</td>\n",
       "    </tr>\n",
       "    <tr>\n",
       "      <th>7</th>\n",
       "      <td>2024-01-15 10:37:00</td>\n",
       "      <td>srv-003</td>\n",
       "      <td>database</td>\n",
       "      <td>{'cpu_usage': 82.6, 'memory_usage': 88.9, 'dis...</td>\n",
       "      <td>critical</td>\n",
       "      <td>high</td>\n",
       "      <td>Database connection pool exhausted</td>\n",
       "    </tr>\n",
       "  </tbody>\n",
       "</table>\n",
       "</div>"
      ],
      "text/plain": [
       "            timestamp server_id   event_type  \\\n",
       "0 2024-01-15 10:30:00   srv-001  performance   \n",
       "1 2024-01-15 10:31:00   srv-002     security   \n",
       "2 2024-01-15 10:32:00   srv-001  performance   \n",
       "3 2024-01-15 10:33:00   srv-003  application   \n",
       "4 2024-01-15 10:34:00   srv-002      network   \n",
       "5 2024-01-15 10:35:00   srv-004  performance   \n",
       "6 2024-01-15 10:36:00   srv-001     security   \n",
       "7 2024-01-15 10:37:00   srv-003     database   \n",
       "\n",
       "                                             metrics    status priority  \\\n",
       "0  {'cpu_usage': 85.5, 'memory_usage': 90.2, 'dis...   warning     high   \n",
       "1  {'cpu_usage': 45.2, 'memory_usage': 60.8, 'dis...  critical     high   \n",
       "2  {'cpu_usage': 92.3, 'memory_usage': 95.5, 'dis...  critical     high   \n",
       "3  {'cpu_usage': 55.5, 'memory_usage': 45.2, 'dis...      info      low   \n",
       "4  {'cpu_usage': 78.4, 'memory_usage': 82.3, 'dis...   warning   medium   \n",
       "5  {'cpu_usage': 88.7, 'memory_usage': 75.6, 'dis...   warning     high   \n",
       "6  {'cpu_usage': 65.4, 'memory_usage': 70.2, 'dis...   warning   medium   \n",
       "7  {'cpu_usage': 82.6, 'memory_usage': 88.9, 'dis...  critical     high   \n",
       "\n",
       "                                    message  \n",
       "0             High CPU utilization detected  \n",
       "1  Failed login attempts exceeded threshold  \n",
       "2          System resources near exhaustion  \n",
       "3          Application deployment completed  \n",
       "4                 Network latency increased  \n",
       "5           Disk usage approaching capacity  \n",
       "6             SSL certificate expiring soon  \n",
       "7        Database connection pool exhausted  "
      ]
     },
     "execution_count": 13,
     "metadata": {},
     "output_type": "execute_result"
    }
   ],
   "source": [
    "df = pd.read_json('sample-dataset-1.json')\n",
    "df"
   ]
  },
  {
   "cell_type": "code",
   "execution_count": 15,
   "metadata": {},
   "outputs": [
    {
     "data": {
      "text/html": [
       "<div>\n",
       "<style scoped>\n",
       "    .dataframe tbody tr th:only-of-type {\n",
       "        vertical-align: middle;\n",
       "    }\n",
       "\n",
       "    .dataframe tbody tr th {\n",
       "        vertical-align: top;\n",
       "    }\n",
       "\n",
       "    .dataframe thead th {\n",
       "        text-align: right;\n",
       "    }\n",
       "</style>\n",
       "<table border=\"1\" class=\"dataframe\">\n",
       "  <thead>\n",
       "    <tr style=\"text-align: right;\">\n",
       "      <th></th>\n",
       "      <th>timestamp</th>\n",
       "      <th>server_id</th>\n",
       "      <th>event_type</th>\n",
       "      <th>metrics</th>\n",
       "      <th>status</th>\n",
       "      <th>priority</th>\n",
       "      <th>message</th>\n",
       "    </tr>\n",
       "  </thead>\n",
       "  <tbody>\n",
       "  </tbody>\n",
       "</table>\n",
       "</div>"
      ],
      "text/plain": [
       "Empty DataFrame\n",
       "Columns: [timestamp, server_id, event_type, metrics, status, priority, message]\n",
       "Index: []"
      ]
     },
     "execution_count": 15,
     "metadata": {},
     "output_type": "execute_result"
    }
   ],
   "source": [
    "df.filter(like='high', axis=0)"
   ]
  },
  {
   "cell_type": "code",
   "execution_count": 46,
   "metadata": {},
   "outputs": [],
   "source": [
    "cf = df.copy()\n",
    "#cf = cf.set_index(['priority'])\n"
   ]
  },
  {
   "cell_type": "code",
   "execution_count": 25,
   "metadata": {},
   "outputs": [
    {
     "data": {
      "text/html": [
       "<div>\n",
       "<style scoped>\n",
       "    .dataframe tbody tr th:only-of-type {\n",
       "        vertical-align: middle;\n",
       "    }\n",
       "\n",
       "    .dataframe tbody tr th {\n",
       "        vertical-align: top;\n",
       "    }\n",
       "\n",
       "    .dataframe thead th {\n",
       "        text-align: right;\n",
       "    }\n",
       "</style>\n",
       "<table border=\"1\" class=\"dataframe\">\n",
       "  <thead>\n",
       "    <tr style=\"text-align: right;\">\n",
       "      <th></th>\n",
       "      <th>timestamp</th>\n",
       "      <th>server_id</th>\n",
       "      <th>event_type</th>\n",
       "      <th>metrics</th>\n",
       "      <th>status</th>\n",
       "      <th>message</th>\n",
       "    </tr>\n",
       "    <tr>\n",
       "      <th>priority</th>\n",
       "      <th></th>\n",
       "      <th></th>\n",
       "      <th></th>\n",
       "      <th></th>\n",
       "      <th></th>\n",
       "      <th></th>\n",
       "    </tr>\n",
       "  </thead>\n",
       "  <tbody>\n",
       "    <tr>\n",
       "      <th>high</th>\n",
       "      <td>2024-01-15 10:30:00</td>\n",
       "      <td>srv-001</td>\n",
       "      <td>performance</td>\n",
       "      <td>{'cpu_usage': 85.5, 'memory_usage': 90.2, 'dis...</td>\n",
       "      <td>warning</td>\n",
       "      <td>High CPU utilization detected</td>\n",
       "    </tr>\n",
       "    <tr>\n",
       "      <th>high</th>\n",
       "      <td>2024-01-15 10:31:00</td>\n",
       "      <td>srv-002</td>\n",
       "      <td>security</td>\n",
       "      <td>{'cpu_usage': 45.2, 'memory_usage': 60.8, 'dis...</td>\n",
       "      <td>critical</td>\n",
       "      <td>Failed login attempts exceeded threshold</td>\n",
       "    </tr>\n",
       "    <tr>\n",
       "      <th>high</th>\n",
       "      <td>2024-01-15 10:32:00</td>\n",
       "      <td>srv-001</td>\n",
       "      <td>performance</td>\n",
       "      <td>{'cpu_usage': 92.3, 'memory_usage': 95.5, 'dis...</td>\n",
       "      <td>critical</td>\n",
       "      <td>System resources near exhaustion</td>\n",
       "    </tr>\n",
       "    <tr>\n",
       "      <th>high</th>\n",
       "      <td>2024-01-15 10:35:00</td>\n",
       "      <td>srv-004</td>\n",
       "      <td>performance</td>\n",
       "      <td>{'cpu_usage': 88.7, 'memory_usage': 75.6, 'dis...</td>\n",
       "      <td>warning</td>\n",
       "      <td>Disk usage approaching capacity</td>\n",
       "    </tr>\n",
       "    <tr>\n",
       "      <th>high</th>\n",
       "      <td>2024-01-15 10:37:00</td>\n",
       "      <td>srv-003</td>\n",
       "      <td>database</td>\n",
       "      <td>{'cpu_usage': 82.6, 'memory_usage': 88.9, 'dis...</td>\n",
       "      <td>critical</td>\n",
       "      <td>Database connection pool exhausted</td>\n",
       "    </tr>\n",
       "  </tbody>\n",
       "</table>\n",
       "</div>"
      ],
      "text/plain": [
       "                   timestamp server_id   event_type  \\\n",
       "priority                                              \n",
       "high     2024-01-15 10:30:00   srv-001  performance   \n",
       "high     2024-01-15 10:31:00   srv-002     security   \n",
       "high     2024-01-15 10:32:00   srv-001  performance   \n",
       "high     2024-01-15 10:35:00   srv-004  performance   \n",
       "high     2024-01-15 10:37:00   srv-003     database   \n",
       "\n",
       "                                                    metrics    status  \\\n",
       "priority                                                                \n",
       "high      {'cpu_usage': 85.5, 'memory_usage': 90.2, 'dis...   warning   \n",
       "high      {'cpu_usage': 45.2, 'memory_usage': 60.8, 'dis...  critical   \n",
       "high      {'cpu_usage': 92.3, 'memory_usage': 95.5, 'dis...  critical   \n",
       "high      {'cpu_usage': 88.7, 'memory_usage': 75.6, 'dis...   warning   \n",
       "high      {'cpu_usage': 82.6, 'memory_usage': 88.9, 'dis...  critical   \n",
       "\n",
       "                                           message  \n",
       "priority                                            \n",
       "high                 High CPU utilization detected  \n",
       "high      Failed login attempts exceeded threshold  \n",
       "high              System resources near exhaustion  \n",
       "high               Disk usage approaching capacity  \n",
       "high            Database connection pool exhausted  "
      ]
     },
     "execution_count": 25,
     "metadata": {},
     "output_type": "execute_result"
    }
   ],
   "source": [
    "cf.filter(like='high', axis=0)"
   ]
  },
  {
   "cell_type": "code",
   "execution_count": 32,
   "metadata": {},
   "outputs": [
    {
     "data": {
      "text/html": [
       "<div>\n",
       "<style scoped>\n",
       "    .dataframe tbody tr th:only-of-type {\n",
       "        vertical-align: middle;\n",
       "    }\n",
       "\n",
       "    .dataframe tbody tr th {\n",
       "        vertical-align: top;\n",
       "    }\n",
       "\n",
       "    .dataframe thead th {\n",
       "        text-align: right;\n",
       "    }\n",
       "</style>\n",
       "<table border=\"1\" class=\"dataframe\">\n",
       "  <thead>\n",
       "    <tr style=\"text-align: right;\">\n",
       "      <th></th>\n",
       "      <th>timestamp</th>\n",
       "      <th>server_id</th>\n",
       "      <th>event_type</th>\n",
       "      <th>metrics</th>\n",
       "      <th>status</th>\n",
       "      <th>priority</th>\n",
       "      <th>message</th>\n",
       "    </tr>\n",
       "  </thead>\n",
       "  <tbody>\n",
       "    <tr>\n",
       "      <th>0</th>\n",
       "      <td>2024-01-15 10:30:00</td>\n",
       "      <td>srv-001</td>\n",
       "      <td>performance</td>\n",
       "      <td>{'cpu_usage': 85.5, 'memory_usage': 90.2, 'dis...</td>\n",
       "      <td>warning</td>\n",
       "      <td>high</td>\n",
       "      <td>High CPU utilization detected</td>\n",
       "    </tr>\n",
       "    <tr>\n",
       "      <th>5</th>\n",
       "      <td>2024-01-15 10:35:00</td>\n",
       "      <td>srv-004</td>\n",
       "      <td>performance</td>\n",
       "      <td>{'cpu_usage': 88.7, 'memory_usage': 75.6, 'dis...</td>\n",
       "      <td>warning</td>\n",
       "      <td>high</td>\n",
       "      <td>Disk usage approaching capacity</td>\n",
       "    </tr>\n",
       "  </tbody>\n",
       "</table>\n",
       "</div>"
      ],
      "text/plain": [
       "            timestamp server_id   event_type  \\\n",
       "0 2024-01-15 10:30:00   srv-001  performance   \n",
       "5 2024-01-15 10:35:00   srv-004  performance   \n",
       "\n",
       "                                             metrics   status priority  \\\n",
       "0  {'cpu_usage': 85.5, 'memory_usage': 90.2, 'dis...  warning     high   \n",
       "5  {'cpu_usage': 88.7, 'memory_usage': 75.6, 'dis...  warning     high   \n",
       "\n",
       "                           message  \n",
       "0    High CPU utilization detected  \n",
       "5  Disk usage approaching capacity  "
      ]
     },
     "execution_count": 32,
     "metadata": {},
     "output_type": "execute_result"
    }
   ],
   "source": [
    "cf[(cf['status']=='warning') & (cf['priority']=='high')]"
   ]
  },
  {
   "cell_type": "code",
   "execution_count": 41,
   "metadata": {},
   "outputs": [
    {
     "data": {
      "text/plain": [
       "85.5"
      ]
     },
     "execution_count": 41,
     "metadata": {},
     "output_type": "execute_result"
    }
   ],
   "source": [
    "cf.iloc[0]['metrics']['cpu_usage']"
   ]
  },
  {
   "cell_type": "code",
   "execution_count": 45,
   "metadata": {},
   "outputs": [
    {
     "data": {
      "text/plain": [
       "['srv-001', 'srv-001', 'srv-004', 'srv-003']"
      ]
     },
     "execution_count": 45,
     "metadata": {},
     "output_type": "execute_result"
    }
   ],
   "source": [
    "l1 = []\n",
    "for i in range(len(df)):\n",
    "    if cf.iloc[i]['metrics']['cpu_usage'] > 80:\n",
    "        l1.append(cf.iloc[i]['server_id'])\n",
    "\n",
    "l1"
   ]
  },
  {
   "cell_type": "code",
   "execution_count": 56,
   "metadata": {},
   "outputs": [],
   "source": [
    "l1 = [l1.append(cf.iloc[i]['server_id']) if cf.iloc[i]['metrics']['cpu_usage'] > 80 else 1]"
   ]
  },
  {
   "cell_type": "code",
   "execution_count": 57,
   "metadata": {},
   "outputs": [
    {
     "data": {
      "text/plain": [
       "[None]"
      ]
     },
     "execution_count": 57,
     "metadata": {},
     "output_type": "execute_result"
    }
   ],
   "source": [
    "l1"
   ]
  },
  {
   "cell_type": "code",
   "execution_count": 58,
   "metadata": {},
   "outputs": [],
   "source": [
    "#2. Create a function that extracts unique server IDs using map() and set()"
   ]
  },
  {
   "cell_type": "code",
   "execution_count": 62,
   "metadata": {},
   "outputs": [
    {
     "data": {
      "text/plain": [
       "{'srv-001', 'srv-002', 'srv-003', 'srv-004'}"
      ]
     },
     "execution_count": 62,
     "metadata": {},
     "output_type": "execute_result"
    }
   ],
   "source": [
    "set(df['server_id'])"
   ]
  },
  {
   "cell_type": "code",
   "execution_count": 64,
   "metadata": {},
   "outputs": [
    {
     "data": {
      "text/plain": [
       "'\\n3. Create a function that sorts the log entries by:\\nTimestamp (primary key)\\nPriority (secondary key) Using the sorted() function with a lambda key\\n'"
      ]
     },
     "execution_count": 64,
     "metadata": {},
     "output_type": "execute_result"
    }
   ],
   "source": [
    "\"\"\"\n",
    "3. Create a function that sorts the log entries by:\n",
    "Timestamp (primary key)\n",
    "Priority (secondary key) Using the sorted() function with a lambda key\n",
    "\"\"\""
   ]
  },
  {
   "cell_type": "code",
   "execution_count": 67,
   "metadata": {},
   "outputs": [
    {
     "data": {
      "text/html": [
       "<div>\n",
       "<style scoped>\n",
       "    .dataframe tbody tr th:only-of-type {\n",
       "        vertical-align: middle;\n",
       "    }\n",
       "\n",
       "    .dataframe tbody tr th {\n",
       "        vertical-align: top;\n",
       "    }\n",
       "\n",
       "    .dataframe thead th {\n",
       "        text-align: right;\n",
       "    }\n",
       "</style>\n",
       "<table border=\"1\" class=\"dataframe\">\n",
       "  <thead>\n",
       "    <tr style=\"text-align: right;\">\n",
       "      <th></th>\n",
       "      <th>timestamp</th>\n",
       "      <th>server_id</th>\n",
       "      <th>event_type</th>\n",
       "      <th>metrics</th>\n",
       "      <th>status</th>\n",
       "      <th>priority</th>\n",
       "      <th>message</th>\n",
       "    </tr>\n",
       "  </thead>\n",
       "  <tbody>\n",
       "    <tr>\n",
       "      <th>0</th>\n",
       "      <td>2024-01-15 10:30:00</td>\n",
       "      <td>srv-001</td>\n",
       "      <td>performance</td>\n",
       "      <td>{'cpu_usage': 85.5, 'memory_usage': 90.2, 'dis...</td>\n",
       "      <td>warning</td>\n",
       "      <td>high</td>\n",
       "      <td>High CPU utilization detected</td>\n",
       "    </tr>\n",
       "    <tr>\n",
       "      <th>1</th>\n",
       "      <td>2024-01-15 10:31:00</td>\n",
       "      <td>srv-002</td>\n",
       "      <td>security</td>\n",
       "      <td>{'cpu_usage': 45.2, 'memory_usage': 60.8, 'dis...</td>\n",
       "      <td>critical</td>\n",
       "      <td>high</td>\n",
       "      <td>Failed login attempts exceeded threshold</td>\n",
       "    </tr>\n",
       "    <tr>\n",
       "      <th>2</th>\n",
       "      <td>2024-01-15 10:32:00</td>\n",
       "      <td>srv-001</td>\n",
       "      <td>performance</td>\n",
       "      <td>{'cpu_usage': 92.3, 'memory_usage': 95.5, 'dis...</td>\n",
       "      <td>critical</td>\n",
       "      <td>high</td>\n",
       "      <td>System resources near exhaustion</td>\n",
       "    </tr>\n",
       "    <tr>\n",
       "      <th>3</th>\n",
       "      <td>2024-01-15 10:33:00</td>\n",
       "      <td>srv-003</td>\n",
       "      <td>application</td>\n",
       "      <td>{'cpu_usage': 55.5, 'memory_usage': 45.2, 'dis...</td>\n",
       "      <td>info</td>\n",
       "      <td>low</td>\n",
       "      <td>Application deployment completed</td>\n",
       "    </tr>\n",
       "    <tr>\n",
       "      <th>4</th>\n",
       "      <td>2024-01-15 10:34:00</td>\n",
       "      <td>srv-002</td>\n",
       "      <td>network</td>\n",
       "      <td>{'cpu_usage': 78.4, 'memory_usage': 82.3, 'dis...</td>\n",
       "      <td>warning</td>\n",
       "      <td>medium</td>\n",
       "      <td>Network latency increased</td>\n",
       "    </tr>\n",
       "    <tr>\n",
       "      <th>5</th>\n",
       "      <td>2024-01-15 10:35:00</td>\n",
       "      <td>srv-004</td>\n",
       "      <td>performance</td>\n",
       "      <td>{'cpu_usage': 88.7, 'memory_usage': 75.6, 'dis...</td>\n",
       "      <td>warning</td>\n",
       "      <td>high</td>\n",
       "      <td>Disk usage approaching capacity</td>\n",
       "    </tr>\n",
       "    <tr>\n",
       "      <th>6</th>\n",
       "      <td>2024-01-15 10:36:00</td>\n",
       "      <td>srv-001</td>\n",
       "      <td>security</td>\n",
       "      <td>{'cpu_usage': 65.4, 'memory_usage': 70.2, 'dis...</td>\n",
       "      <td>warning</td>\n",
       "      <td>medium</td>\n",
       "      <td>SSL certificate expiring soon</td>\n",
       "    </tr>\n",
       "    <tr>\n",
       "      <th>7</th>\n",
       "      <td>2024-01-15 10:37:00</td>\n",
       "      <td>srv-003</td>\n",
       "      <td>database</td>\n",
       "      <td>{'cpu_usage': 82.6, 'memory_usage': 88.9, 'dis...</td>\n",
       "      <td>critical</td>\n",
       "      <td>high</td>\n",
       "      <td>Database connection pool exhausted</td>\n",
       "    </tr>\n",
       "  </tbody>\n",
       "</table>\n",
       "</div>"
      ],
      "text/plain": [
       "            timestamp server_id   event_type  \\\n",
       "0 2024-01-15 10:30:00   srv-001  performance   \n",
       "1 2024-01-15 10:31:00   srv-002     security   \n",
       "2 2024-01-15 10:32:00   srv-001  performance   \n",
       "3 2024-01-15 10:33:00   srv-003  application   \n",
       "4 2024-01-15 10:34:00   srv-002      network   \n",
       "5 2024-01-15 10:35:00   srv-004  performance   \n",
       "6 2024-01-15 10:36:00   srv-001     security   \n",
       "7 2024-01-15 10:37:00   srv-003     database   \n",
       "\n",
       "                                             metrics    status priority  \\\n",
       "0  {'cpu_usage': 85.5, 'memory_usage': 90.2, 'dis...   warning     high   \n",
       "1  {'cpu_usage': 45.2, 'memory_usage': 60.8, 'dis...  critical     high   \n",
       "2  {'cpu_usage': 92.3, 'memory_usage': 95.5, 'dis...  critical     high   \n",
       "3  {'cpu_usage': 55.5, 'memory_usage': 45.2, 'dis...      info      low   \n",
       "4  {'cpu_usage': 78.4, 'memory_usage': 82.3, 'dis...   warning   medium   \n",
       "5  {'cpu_usage': 88.7, 'memory_usage': 75.6, 'dis...   warning     high   \n",
       "6  {'cpu_usage': 65.4, 'memory_usage': 70.2, 'dis...   warning   medium   \n",
       "7  {'cpu_usage': 82.6, 'memory_usage': 88.9, 'dis...  critical     high   \n",
       "\n",
       "                                    message  \n",
       "0             High CPU utilization detected  \n",
       "1  Failed login attempts exceeded threshold  \n",
       "2          System resources near exhaustion  \n",
       "3          Application deployment completed  \n",
       "4                 Network latency increased  \n",
       "5           Disk usage approaching capacity  \n",
       "6             SSL certificate expiring soon  \n",
       "7        Database connection pool exhausted  "
      ]
     },
     "execution_count": 67,
     "metadata": {},
     "output_type": "execute_result"
    }
   ],
   "source": [
    "df.sort_values(by='timestamp', ascending=True, ignore_index=True)"
   ]
  },
  {
   "cell_type": "code",
   "execution_count": 68,
   "metadata": {},
   "outputs": [
    {
     "name": "stdout",
     "output_type": "stream",
     "text": [
      "\u001b[0;31mSignature:\u001b[0m \u001b[0msorted\u001b[0m\u001b[0;34m(\u001b[0m\u001b[0miterable\u001b[0m\u001b[0;34m,\u001b[0m \u001b[0;34m/\u001b[0m\u001b[0;34m,\u001b[0m \u001b[0;34m*\u001b[0m\u001b[0;34m,\u001b[0m \u001b[0mkey\u001b[0m\u001b[0;34m=\u001b[0m\u001b[0;32mNone\u001b[0m\u001b[0;34m,\u001b[0m \u001b[0mreverse\u001b[0m\u001b[0;34m=\u001b[0m\u001b[0;32mFalse\u001b[0m\u001b[0;34m)\u001b[0m\u001b[0;34m\u001b[0m\u001b[0;34m\u001b[0m\u001b[0m\n",
      "\u001b[0;31mDocstring:\u001b[0m\n",
      "Return a new list containing all items from the iterable in ascending order.\n",
      "\n",
      "A custom key function can be supplied to customize the sort order, and the\n",
      "reverse flag can be set to request the result in descending order.\n",
      "\u001b[0;31mType:\u001b[0m      builtin_function_or_method"
     ]
    }
   ],
   "source": [
    "sorted?"
   ]
  },
  {
   "cell_type": "code",
   "execution_count": 76,
   "metadata": {},
   "outputs": [
    {
     "name": "stderr",
     "output_type": "stream",
     "text": [
      "/tmp/ipykernel_11649/1868263300.py:4: FutureWarning: Downcasting behavior in `replace` is deprecated and will be removed in a future version. To retain the old behavior, explicitly call `result.infer_objects(copy=False)`. To opt-in to the future behavior, set `pd.set_option('future.no_silent_downcasting', True)`\n",
      "  cf['priority'] = cf['priority'].replace('low',0)\n"
     ]
    },
    {
     "data": {
      "text/html": [
       "<div>\n",
       "<style scoped>\n",
       "    .dataframe tbody tr th:only-of-type {\n",
       "        vertical-align: middle;\n",
       "    }\n",
       "\n",
       "    .dataframe tbody tr th {\n",
       "        vertical-align: top;\n",
       "    }\n",
       "\n",
       "    .dataframe thead th {\n",
       "        text-align: right;\n",
       "    }\n",
       "</style>\n",
       "<table border=\"1\" class=\"dataframe\">\n",
       "  <thead>\n",
       "    <tr style=\"text-align: right;\">\n",
       "      <th></th>\n",
       "      <th>timestamp</th>\n",
       "      <th>server_id</th>\n",
       "      <th>event_type</th>\n",
       "      <th>metrics</th>\n",
       "      <th>status</th>\n",
       "      <th>priority</th>\n",
       "      <th>message</th>\n",
       "    </tr>\n",
       "  </thead>\n",
       "  <tbody>\n",
       "    <tr>\n",
       "      <th>0</th>\n",
       "      <td>2024-01-15 10:30:00</td>\n",
       "      <td>srv-001</td>\n",
       "      <td>performance</td>\n",
       "      <td>{'cpu_usage': 85.5, 'memory_usage': 90.2, 'dis...</td>\n",
       "      <td>warning</td>\n",
       "      <td>2</td>\n",
       "      <td>High CPU utilization detected</td>\n",
       "    </tr>\n",
       "    <tr>\n",
       "      <th>1</th>\n",
       "      <td>2024-01-15 10:31:00</td>\n",
       "      <td>srv-002</td>\n",
       "      <td>security</td>\n",
       "      <td>{'cpu_usage': 45.2, 'memory_usage': 60.8, 'dis...</td>\n",
       "      <td>critical</td>\n",
       "      <td>2</td>\n",
       "      <td>Failed login attempts exceeded threshold</td>\n",
       "    </tr>\n",
       "    <tr>\n",
       "      <th>2</th>\n",
       "      <td>2024-01-15 10:32:00</td>\n",
       "      <td>srv-001</td>\n",
       "      <td>performance</td>\n",
       "      <td>{'cpu_usage': 92.3, 'memory_usage': 95.5, 'dis...</td>\n",
       "      <td>critical</td>\n",
       "      <td>2</td>\n",
       "      <td>System resources near exhaustion</td>\n",
       "    </tr>\n",
       "    <tr>\n",
       "      <th>3</th>\n",
       "      <td>2024-01-15 10:33:00</td>\n",
       "      <td>srv-003</td>\n",
       "      <td>application</td>\n",
       "      <td>{'cpu_usage': 55.5, 'memory_usage': 45.2, 'dis...</td>\n",
       "      <td>info</td>\n",
       "      <td>0</td>\n",
       "      <td>Application deployment completed</td>\n",
       "    </tr>\n",
       "    <tr>\n",
       "      <th>4</th>\n",
       "      <td>2024-01-15 10:34:00</td>\n",
       "      <td>srv-002</td>\n",
       "      <td>network</td>\n",
       "      <td>{'cpu_usage': 78.4, 'memory_usage': 82.3, 'dis...</td>\n",
       "      <td>warning</td>\n",
       "      <td>1</td>\n",
       "      <td>Network latency increased</td>\n",
       "    </tr>\n",
       "    <tr>\n",
       "      <th>5</th>\n",
       "      <td>2024-01-15 10:35:00</td>\n",
       "      <td>srv-004</td>\n",
       "      <td>performance</td>\n",
       "      <td>{'cpu_usage': 88.7, 'memory_usage': 75.6, 'dis...</td>\n",
       "      <td>warning</td>\n",
       "      <td>2</td>\n",
       "      <td>Disk usage approaching capacity</td>\n",
       "    </tr>\n",
       "    <tr>\n",
       "      <th>6</th>\n",
       "      <td>2024-01-15 10:36:00</td>\n",
       "      <td>srv-001</td>\n",
       "      <td>security</td>\n",
       "      <td>{'cpu_usage': 65.4, 'memory_usage': 70.2, 'dis...</td>\n",
       "      <td>warning</td>\n",
       "      <td>1</td>\n",
       "      <td>SSL certificate expiring soon</td>\n",
       "    </tr>\n",
       "    <tr>\n",
       "      <th>7</th>\n",
       "      <td>2024-01-15 10:37:00</td>\n",
       "      <td>srv-003</td>\n",
       "      <td>database</td>\n",
       "      <td>{'cpu_usage': 82.6, 'memory_usage': 88.9, 'dis...</td>\n",
       "      <td>critical</td>\n",
       "      <td>2</td>\n",
       "      <td>Database connection pool exhausted</td>\n",
       "    </tr>\n",
       "  </tbody>\n",
       "</table>\n",
       "</div>"
      ],
      "text/plain": [
       "            timestamp server_id   event_type  \\\n",
       "0 2024-01-15 10:30:00   srv-001  performance   \n",
       "1 2024-01-15 10:31:00   srv-002     security   \n",
       "2 2024-01-15 10:32:00   srv-001  performance   \n",
       "3 2024-01-15 10:33:00   srv-003  application   \n",
       "4 2024-01-15 10:34:00   srv-002      network   \n",
       "5 2024-01-15 10:35:00   srv-004  performance   \n",
       "6 2024-01-15 10:36:00   srv-001     security   \n",
       "7 2024-01-15 10:37:00   srv-003     database   \n",
       "\n",
       "                                             metrics    status  priority  \\\n",
       "0  {'cpu_usage': 85.5, 'memory_usage': 90.2, 'dis...   warning         2   \n",
       "1  {'cpu_usage': 45.2, 'memory_usage': 60.8, 'dis...  critical         2   \n",
       "2  {'cpu_usage': 92.3, 'memory_usage': 95.5, 'dis...  critical         2   \n",
       "3  {'cpu_usage': 55.5, 'memory_usage': 45.2, 'dis...      info         0   \n",
       "4  {'cpu_usage': 78.4, 'memory_usage': 82.3, 'dis...   warning         1   \n",
       "5  {'cpu_usage': 88.7, 'memory_usage': 75.6, 'dis...   warning         2   \n",
       "6  {'cpu_usage': 65.4, 'memory_usage': 70.2, 'dis...   warning         1   \n",
       "7  {'cpu_usage': 82.6, 'memory_usage': 88.9, 'dis...  critical         2   \n",
       "\n",
       "                                    message  \n",
       "0             High CPU utilization detected  \n",
       "1  Failed login attempts exceeded threshold  \n",
       "2          System resources near exhaustion  \n",
       "3          Application deployment completed  \n",
       "4                 Network latency increased  \n",
       "5           Disk usage approaching capacity  \n",
       "6             SSL certificate expiring soon  \n",
       "7        Database connection pool exhausted  "
      ]
     },
     "execution_count": 76,
     "metadata": {},
     "output_type": "execute_result"
    }
   ],
   "source": [
    "cf = df.copy()\n",
    "cf['priority'] = cf['priority'].replace('high',2)\n",
    "cf['priority'] = cf['priority'].replace('medium',1)\n",
    "cf['priority'] = cf['priority'].replace('low',0)\n",
    "cf"
   ]
  },
  {
   "cell_type": "code",
   "execution_count": 94,
   "metadata": {},
   "outputs": [
    {
     "ename": "AttributeError",
     "evalue": "'str' object has no attribute 'values'",
     "output_type": "error",
     "traceback": [
      "\u001b[0;31m---------------------------------------------------------------------------\u001b[0m",
      "\u001b[0;31mAttributeError\u001b[0m                            Traceback (most recent call last)",
      "Cell \u001b[0;32mIn[94], line 1\u001b[0m\n\u001b[0;32m----> 1\u001b[0m \u001b[38;5;28;43msorted\u001b[39;49m\u001b[43m(\u001b[49m\u001b[43mcf\u001b[49m\u001b[43m,\u001b[49m\u001b[43mkey\u001b[49m\u001b[38;5;241;43m=\u001b[39;49m\u001b[43m \u001b[49m\u001b[38;5;28;43;01mlambda\u001b[39;49;00m\u001b[43m \u001b[49m\u001b[43mx\u001b[49m\u001b[43m:\u001b[49m\u001b[43m \u001b[49m\u001b[38;5;28;43mprint\u001b[39;49m\u001b[43m(\u001b[49m\u001b[43mx\u001b[49m\u001b[38;5;241;43m.\u001b[39;49m\u001b[43mvalues\u001b[49m\u001b[43m)\u001b[49m\u001b[43m)\u001b[49m\n",
      "Cell \u001b[0;32mIn[94], line 1\u001b[0m, in \u001b[0;36m<lambda>\u001b[0;34m(x)\u001b[0m\n\u001b[0;32m----> 1\u001b[0m \u001b[38;5;28msorted\u001b[39m(cf,key\u001b[38;5;241m=\u001b[39m \u001b[38;5;28;01mlambda\u001b[39;00m x: \u001b[38;5;28mprint\u001b[39m(\u001b[43mx\u001b[49m\u001b[38;5;241;43m.\u001b[39;49m\u001b[43mvalues\u001b[49m))\n",
      "\u001b[0;31mAttributeError\u001b[0m: 'str' object has no attribute 'values'"
     ]
    }
   ],
   "source": [
    "sorted(cf,key= lambda x: print(x))"
   ]
  },
  {
   "cell_type": "code",
   "execution_count": 82,
   "metadata": {},
   "outputs": [
    {
     "data": {
      "text/plain": [
       "dtype('int64')"
      ]
     },
     "execution_count": 82,
     "metadata": {},
     "output_type": "execute_result"
    }
   ],
   "source": [
    "cf['priority'].dtype"
   ]
  },
  {
   "cell_type": "code",
   "execution_count": 95,
   "metadata": {},
   "outputs": [
    {
     "data": {
      "text/plain": [
       "'\\n4. Bonus: Create a function that generates a summary report showing:\\nCount of events by priority\\nList of unique event types\\nAverage CPU usage across all servers\\n'"
      ]
     },
     "execution_count": 95,
     "metadata": {},
     "output_type": "execute_result"
    }
   ],
   "source": [
    "\"\"\"\n",
    "4. Bonus: Create a function that generates a summary report showing:\n",
    "Count of events by priority\n",
    "List of unique event types\n",
    "Average CPU usage across all servers\n",
    "\"\"\""
   ]
  },
  {
   "cell_type": "code",
   "execution_count": 96,
   "metadata": {},
   "outputs": [
    {
     "data": {
      "text/html": [
       "<div>\n",
       "<style scoped>\n",
       "    .dataframe tbody tr th:only-of-type {\n",
       "        vertical-align: middle;\n",
       "    }\n",
       "\n",
       "    .dataframe tbody tr th {\n",
       "        vertical-align: top;\n",
       "    }\n",
       "\n",
       "    .dataframe thead th {\n",
       "        text-align: right;\n",
       "    }\n",
       "</style>\n",
       "<table border=\"1\" class=\"dataframe\">\n",
       "  <thead>\n",
       "    <tr style=\"text-align: right;\">\n",
       "      <th></th>\n",
       "      <th>timestamp</th>\n",
       "      <th>server_id</th>\n",
       "      <th>event_type</th>\n",
       "      <th>metrics</th>\n",
       "      <th>status</th>\n",
       "      <th>priority</th>\n",
       "      <th>message</th>\n",
       "    </tr>\n",
       "  </thead>\n",
       "  <tbody>\n",
       "    <tr>\n",
       "      <th>0</th>\n",
       "      <td>2024-01-15 10:30:00</td>\n",
       "      <td>srv-001</td>\n",
       "      <td>performance</td>\n",
       "      <td>{'cpu_usage': 85.5, 'memory_usage': 90.2, 'dis...</td>\n",
       "      <td>warning</td>\n",
       "      <td>high</td>\n",
       "      <td>High CPU utilization detected</td>\n",
       "    </tr>\n",
       "    <tr>\n",
       "      <th>1</th>\n",
       "      <td>2024-01-15 10:31:00</td>\n",
       "      <td>srv-002</td>\n",
       "      <td>security</td>\n",
       "      <td>{'cpu_usage': 45.2, 'memory_usage': 60.8, 'dis...</td>\n",
       "      <td>critical</td>\n",
       "      <td>high</td>\n",
       "      <td>Failed login attempts exceeded threshold</td>\n",
       "    </tr>\n",
       "    <tr>\n",
       "      <th>2</th>\n",
       "      <td>2024-01-15 10:32:00</td>\n",
       "      <td>srv-001</td>\n",
       "      <td>performance</td>\n",
       "      <td>{'cpu_usage': 92.3, 'memory_usage': 95.5, 'dis...</td>\n",
       "      <td>critical</td>\n",
       "      <td>high</td>\n",
       "      <td>System resources near exhaustion</td>\n",
       "    </tr>\n",
       "    <tr>\n",
       "      <th>3</th>\n",
       "      <td>2024-01-15 10:33:00</td>\n",
       "      <td>srv-003</td>\n",
       "      <td>application</td>\n",
       "      <td>{'cpu_usage': 55.5, 'memory_usage': 45.2, 'dis...</td>\n",
       "      <td>info</td>\n",
       "      <td>low</td>\n",
       "      <td>Application deployment completed</td>\n",
       "    </tr>\n",
       "    <tr>\n",
       "      <th>4</th>\n",
       "      <td>2024-01-15 10:34:00</td>\n",
       "      <td>srv-002</td>\n",
       "      <td>network</td>\n",
       "      <td>{'cpu_usage': 78.4, 'memory_usage': 82.3, 'dis...</td>\n",
       "      <td>warning</td>\n",
       "      <td>medium</td>\n",
       "      <td>Network latency increased</td>\n",
       "    </tr>\n",
       "    <tr>\n",
       "      <th>5</th>\n",
       "      <td>2024-01-15 10:35:00</td>\n",
       "      <td>srv-004</td>\n",
       "      <td>performance</td>\n",
       "      <td>{'cpu_usage': 88.7, 'memory_usage': 75.6, 'dis...</td>\n",
       "      <td>warning</td>\n",
       "      <td>high</td>\n",
       "      <td>Disk usage approaching capacity</td>\n",
       "    </tr>\n",
       "    <tr>\n",
       "      <th>6</th>\n",
       "      <td>2024-01-15 10:36:00</td>\n",
       "      <td>srv-001</td>\n",
       "      <td>security</td>\n",
       "      <td>{'cpu_usage': 65.4, 'memory_usage': 70.2, 'dis...</td>\n",
       "      <td>warning</td>\n",
       "      <td>medium</td>\n",
       "      <td>SSL certificate expiring soon</td>\n",
       "    </tr>\n",
       "    <tr>\n",
       "      <th>7</th>\n",
       "      <td>2024-01-15 10:37:00</td>\n",
       "      <td>srv-003</td>\n",
       "      <td>database</td>\n",
       "      <td>{'cpu_usage': 82.6, 'memory_usage': 88.9, 'dis...</td>\n",
       "      <td>critical</td>\n",
       "      <td>high</td>\n",
       "      <td>Database connection pool exhausted</td>\n",
       "    </tr>\n",
       "  </tbody>\n",
       "</table>\n",
       "</div>"
      ],
      "text/plain": [
       "            timestamp server_id   event_type  \\\n",
       "0 2024-01-15 10:30:00   srv-001  performance   \n",
       "1 2024-01-15 10:31:00   srv-002     security   \n",
       "2 2024-01-15 10:32:00   srv-001  performance   \n",
       "3 2024-01-15 10:33:00   srv-003  application   \n",
       "4 2024-01-15 10:34:00   srv-002      network   \n",
       "5 2024-01-15 10:35:00   srv-004  performance   \n",
       "6 2024-01-15 10:36:00   srv-001     security   \n",
       "7 2024-01-15 10:37:00   srv-003     database   \n",
       "\n",
       "                                             metrics    status priority  \\\n",
       "0  {'cpu_usage': 85.5, 'memory_usage': 90.2, 'dis...   warning     high   \n",
       "1  {'cpu_usage': 45.2, 'memory_usage': 60.8, 'dis...  critical     high   \n",
       "2  {'cpu_usage': 92.3, 'memory_usage': 95.5, 'dis...  critical     high   \n",
       "3  {'cpu_usage': 55.5, 'memory_usage': 45.2, 'dis...      info      low   \n",
       "4  {'cpu_usage': 78.4, 'memory_usage': 82.3, 'dis...   warning   medium   \n",
       "5  {'cpu_usage': 88.7, 'memory_usage': 75.6, 'dis...   warning     high   \n",
       "6  {'cpu_usage': 65.4, 'memory_usage': 70.2, 'dis...   warning   medium   \n",
       "7  {'cpu_usage': 82.6, 'memory_usage': 88.9, 'dis...  critical     high   \n",
       "\n",
       "                                    message  \n",
       "0             High CPU utilization detected  \n",
       "1  Failed login attempts exceeded threshold  \n",
       "2          System resources near exhaustion  \n",
       "3          Application deployment completed  \n",
       "4                 Network latency increased  \n",
       "5           Disk usage approaching capacity  \n",
       "6             SSL certificate expiring soon  \n",
       "7        Database connection pool exhausted  "
      ]
     },
     "execution_count": 96,
     "metadata": {},
     "output_type": "execute_result"
    }
   ],
   "source": [
    "df"
   ]
  },
  {
   "cell_type": "code",
   "execution_count": 105,
   "metadata": {},
   "outputs": [
    {
     "data": {
      "text/html": [
       "<div>\n",
       "<style scoped>\n",
       "    .dataframe tbody tr th:only-of-type {\n",
       "        vertical-align: middle;\n",
       "    }\n",
       "\n",
       "    .dataframe tbody tr th {\n",
       "        vertical-align: top;\n",
       "    }\n",
       "\n",
       "    .dataframe thead th {\n",
       "        text-align: right;\n",
       "    }\n",
       "</style>\n",
       "<table border=\"1\" class=\"dataframe\">\n",
       "  <thead>\n",
       "    <tr style=\"text-align: right;\">\n",
       "      <th></th>\n",
       "      <th>event_type</th>\n",
       "      <th>priority</th>\n",
       "      <th>timestamp</th>\n",
       "    </tr>\n",
       "  </thead>\n",
       "  <tbody>\n",
       "    <tr>\n",
       "      <th>0</th>\n",
       "      <td>application</td>\n",
       "      <td>low</td>\n",
       "      <td>1</td>\n",
       "    </tr>\n",
       "    <tr>\n",
       "      <th>1</th>\n",
       "      <td>database</td>\n",
       "      <td>high</td>\n",
       "      <td>1</td>\n",
       "    </tr>\n",
       "    <tr>\n",
       "      <th>2</th>\n",
       "      <td>network</td>\n",
       "      <td>medium</td>\n",
       "      <td>1</td>\n",
       "    </tr>\n",
       "    <tr>\n",
       "      <th>3</th>\n",
       "      <td>performance</td>\n",
       "      <td>high</td>\n",
       "      <td>3</td>\n",
       "    </tr>\n",
       "    <tr>\n",
       "      <th>4</th>\n",
       "      <td>security</td>\n",
       "      <td>high</td>\n",
       "      <td>1</td>\n",
       "    </tr>\n",
       "    <tr>\n",
       "      <th>5</th>\n",
       "      <td>security</td>\n",
       "      <td>medium</td>\n",
       "      <td>1</td>\n",
       "    </tr>\n",
       "  </tbody>\n",
       "</table>\n",
       "</div>"
      ],
      "text/plain": [
       "    event_type priority  timestamp\n",
       "0  application      low          1\n",
       "1     database     high          1\n",
       "2      network   medium          1\n",
       "3  performance     high          3\n",
       "4     security     high          1\n",
       "5     security   medium          1"
      ]
     },
     "execution_count": 105,
     "metadata": {},
     "output_type": "execute_result"
    }
   ],
   "source": [
    "event_df = df.groupby(['event_type','priority'])['timestamp'].count().reset_index()\n",
    "event_df"
   ]
  },
  {
   "cell_type": "code",
   "execution_count": 106,
   "metadata": {},
   "outputs": [
    {
     "data": {
      "text/plain": [
       "{'application', 'database', 'network', 'performance', 'security'}"
      ]
     },
     "execution_count": 106,
     "metadata": {},
     "output_type": "execute_result"
    }
   ],
   "source": [
    "set(df['event_type'])"
   ]
  },
  {
   "cell_type": "code",
   "execution_count": 108,
   "metadata": {},
   "outputs": [
    {
     "data": {
      "text/plain": [
       "dtype('O')"
      ]
     },
     "execution_count": 108,
     "metadata": {},
     "output_type": "execute_result"
    }
   ],
   "source": [
    "df.iloc[i]['metrics']['cpu_usage']"
   ]
  },
  {
   "cell_type": "code",
   "execution_count": 120,
   "metadata": {},
   "outputs": [
    {
     "data": {
      "text/plain": [
       "85.5"
      ]
     },
     "execution_count": 120,
     "metadata": {},
     "output_type": "execute_result"
    }
   ],
   "source": [
    "df['metrics'][0]['cpu_usage']"
   ]
  },
  {
   "cell_type": "code",
   "execution_count": 121,
   "metadata": {},
   "outputs": [
    {
     "data": {
      "text/plain": [
       "74.2"
      ]
     },
     "execution_count": 121,
     "metadata": {},
     "output_type": "execute_result"
    }
   ],
   "source": [
    "usage = 0\n",
    "for i in range(len(df)):\n",
    "    usage = usage + df['metrics'][i]['cpu_usage']\n",
    "\n",
    "usage/len(df)"
   ]
  },
  {
   "cell_type": "code",
   "execution_count": null,
   "metadata": {},
   "outputs": [],
   "source": []
  }
 ],
 "metadata": {
  "kernelspec": {
   "display_name": "dec19venv",
   "language": "python",
   "name": "python3"
  },
  "language_info": {
   "codemirror_mode": {
    "name": "ipython",
    "version": 3
   },
   "file_extension": ".py",
   "mimetype": "text/x-python",
   "name": "python",
   "nbconvert_exporter": "python",
   "pygments_lexer": "ipython3",
   "version": "3.12.3"
  }
 },
 "nbformat": 4,
 "nbformat_minor": 2
}
