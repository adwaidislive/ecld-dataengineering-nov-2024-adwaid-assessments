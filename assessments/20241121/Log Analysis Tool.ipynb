{
 "cells": [
  {
   "cell_type": "code",
   "execution_count": 1,
   "id": "f013aa8b-f60f-4285-8d6a-bd8ac2c1ea16",
   "metadata": {},
   "outputs": [],
   "source": [
    "import pandas as pd\n",
    "filename=\"sample-log.txt\""
   ]
  },
  {
   "cell_type": "code",
   "execution_count": 2,
   "id": "eb97431f-88bd-4d66-b1a8-887d7e1ffa8e",
   "metadata": {},
   "outputs": [],
   "source": [
    "df = pd.read_csv(filename, sep=\",\", names =[\"timestamp\",\"ip_add\",\"statuscode\",\"endpoint\"])"
   ]
  },
  {
   "cell_type": "code",
   "execution_count": 3,
   "id": "3608c506-779f-40ad-b7c9-8c0033642e6b",
   "metadata": {},
   "outputs": [
    {
     "data": {
      "text/html": [
       "<div>\n",
       "<style scoped>\n",
       "    .dataframe tbody tr th:only-of-type {\n",
       "        vertical-align: middle;\n",
       "    }\n",
       "\n",
       "    .dataframe tbody tr th {\n",
       "        vertical-align: top;\n",
       "    }\n",
       "\n",
       "    .dataframe thead th {\n",
       "        text-align: right;\n",
       "    }\n",
       "</style>\n",
       "<table border=\"1\" class=\"dataframe\">\n",
       "  <thead>\n",
       "    <tr style=\"text-align: right;\">\n",
       "      <th></th>\n",
       "      <th>timestamp</th>\n",
       "      <th>ip_add</th>\n",
       "      <th>statuscode</th>\n",
       "      <th>endpoint</th>\n",
       "    </tr>\n",
       "  </thead>\n",
       "  <tbody>\n",
       "    <tr>\n",
       "      <th>0</th>\n",
       "      <td>2024-03-18 10:15:23</td>\n",
       "      <td>192.168.1.101</td>\n",
       "      <td>200</td>\n",
       "      <td>/home</td>\n",
       "    </tr>\n",
       "    <tr>\n",
       "      <th>1</th>\n",
       "      <td>2024-03-18 10:15:25</td>\n",
       "      <td>192.168.1.102</td>\n",
       "      <td>404</td>\n",
       "      <td>/profile/user123</td>\n",
       "    </tr>\n",
       "    <tr>\n",
       "      <th>2</th>\n",
       "      <td>2024-03-18 10:15:30</td>\n",
       "      <td>192.168.1.101</td>\n",
       "      <td>200</td>\n",
       "      <td>/about</td>\n",
       "    </tr>\n",
       "    <tr>\n",
       "      <th>3</th>\n",
       "      <td>2024-03-18 10:15:45</td>\n",
       "      <td>192.168.1.103</td>\n",
       "      <td>200</td>\n",
       "      <td>/products</td>\n",
       "    </tr>\n",
       "    <tr>\n",
       "      <th>4</th>\n",
       "      <td>2024-03-18 10:16:01</td>\n",
       "      <td>192.168.1.104</td>\n",
       "      <td>500</td>\n",
       "      <td>/api/data</td>\n",
       "    </tr>\n",
       "  </tbody>\n",
       "</table>\n",
       "</div>"
      ],
      "text/plain": [
       "             timestamp         ip_add  statuscode          endpoint\n",
       "0  2024-03-18 10:15:23  192.168.1.101         200             /home\n",
       "1  2024-03-18 10:15:25  192.168.1.102         404  /profile/user123\n",
       "2  2024-03-18 10:15:30  192.168.1.101         200            /about\n",
       "3  2024-03-18 10:15:45  192.168.1.103         200         /products\n",
       "4  2024-03-18 10:16:01  192.168.1.104         500         /api/data"
      ]
     },
     "execution_count": 3,
     "metadata": {},
     "output_type": "execute_result"
    }
   ],
   "source": [
    "df.head()"
   ]
  },
  {
   "cell_type": "markdown",
   "id": "007e8112-3f2f-4e5a-9662-3fdfc82798a9",
   "metadata": {},
   "source": [
    "# Parse Log Line Function"
   ]
  },
  {
   "cell_type": "code",
   "execution_count": 4,
   "id": "aa97f829-6d21-452d-b719-2569025d8d0b",
   "metadata": {},
   "outputs": [],
   "source": [
    "def get_parse_log_line(filename):\n",
    "    with open(filename,'r') as logfile:\n",
    "        for line in logfile:\n",
    "            (timestamp, ip, status_code, endpoint)= line.strip().split(',')\n",
    "            parse = timestamp, ip, status_code, endpoint\n",
    "            print(parse)"
   ]
  },
  {
   "cell_type": "code",
   "execution_count": 5,
   "id": "13de2457-3fb4-4122-a1f3-a30bb5abf37f",
   "metadata": {},
   "outputs": [
    {
     "name": "stdout",
     "output_type": "stream",
     "text": [
      "('2024-03-18 10:15:23', '192.168.1.101', '200', '/home')\n",
      "('2024-03-18 10:15:25', '192.168.1.102', '404', '/profile/user123')\n",
      "('2024-03-18 10:15:30', '192.168.1.101', '200', '/about')\n",
      "('2024-03-18 10:15:45', '192.168.1.103', '200', '/products')\n",
      "('2024-03-18 10:16:01', '192.168.1.104', '500', '/api/data')\n",
      "('2024-03-18 10:16:15', '192.168.1.102', '200', '/home')\n",
      "('2024-03-18 10:16:30', '192.168.1.105', '404', '/blog/post123')\n",
      "('2024-03-18 10:16:45', '192.168.1.101', '200', '/products')\n",
      "('2024-03-18 10:17:00', '192.168.1.106', '200', '/home')\n",
      "('2024-03-18 10:17:15', '192.168.1.107', '403', '/admin')\n",
      "('2024-03-18 10:17:30', '192.168.1.102', '200', '/about')\n",
      "('2024-03-18 10:17:45', '192.168.1.108', '200', '/contact')\n",
      "('2024-03-18 10:18:00', '192.168.1.109', '500', '/api/users')\n",
      "('2024-03-18 10:18:15', '192.168.1.101', '200', '/home')\n",
      "('2024-03-18 10:18:30', '192.168.1.110', '200', '/products')\n",
      "('2024-03-18 10:18:45', '192.168.1.102', '404', '/images/logo.png')\n",
      "('2024-03-18 10:19:00', '192.168.1.111', '200', '/home')\n",
      "('2024-03-18 10:19:15', '192.168.1.112', '200', '/about')\n",
      "('2024-03-18 10:19:30', '192.168.1.101', '503', '/api/orders')\n",
      "('2024-03-18 10:19:45', '192.168.1.113', '200', '/products')\n",
      "('2024-03-18 10:20:00', '192.168.1.102', '200', '/contact')\n"
     ]
    }
   ],
   "source": [
    "# Example\n",
    "\n",
    "get_parse_log_line(filename)"
   ]
  },
  {
   "cell_type": "markdown",
   "id": "c2178bed-4ba9-4898-a30c-0f29eb5fad5d",
   "metadata": {},
   "source": [
    "# Unique Visitors Count"
   ]
  },
  {
   "cell_type": "code",
   "execution_count": 6,
   "id": "65847998-8d1a-40b7-afe3-93db1f6dd0d1",
   "metadata": {},
   "outputs": [],
   "source": [
    "def get_unique_visitors(df):\n",
    "    return df[\"ip_add\"].nunique()"
   ]
  },
  {
   "cell_type": "markdown",
   "id": "f1370ecc-a183-40a9-bb8b-9a9aa69fc47a",
   "metadata": {},
   "source": [
    "# Most Popular Endpoints"
   ]
  },
  {
   "cell_type": "code",
   "execution_count": 7,
   "id": "da6d6d1c-50a1-4a79-8ff4-2269f44a3968",
   "metadata": {},
   "outputs": [],
   "source": [
    "def get_popular_endpoints(df, top_n=5) :\n",
    "    end_dict= {}\n",
    "    for end in df[\"endpoint\"]:\n",
    "        end_dict[end] = end_dict.get(end,0) + 1\n",
    "\n",
    "    popular = sorted(end_dict.items(), key = lambda x:x[1], reverse=True)[:top_n]\n",
    "    return popular"
   ]
  },
  {
   "cell_type": "markdown",
   "id": "c451479f-8594-40b7-ad7e-478860dae77b",
   "metadata": {},
   "source": [
    "# Error Rate"
   ]
  },
  {
   "cell_type": "code",
   "execution_count": 8,
   "id": "d8a122cb-495f-433e-8c2b-95ec69417ea7",
   "metadata": {},
   "outputs": [],
   "source": [
    "def get_error_rate(df) :\n",
    "    errors = 0\n",
    "    for e in df[\"statuscode\"]:\n",
    "        if(e>=400):\n",
    "            errors += 1\n",
    "    return round((errors/len(df)*100),2)"
   ]
  },
  {
   "cell_type": "markdown",
   "id": "0c46f631-e6bd-47f8-9601-c6491e998034",
   "metadata": {},
   "source": [
    "## FINAL SUMMARY REPORT"
   ]
  },
  {
   "cell_type": "code",
   "execution_count": 9,
   "id": "f7c6ae95-7a64-4a5d-8711-32f2b93a1114",
   "metadata": {},
   "outputs": [],
   "source": [
    "def generate_report(filename):\n",
    "    print(f\"Parsing Log Lines :\")\n",
    "    get_parse_log_line(filename)\n",
    "    df = pd.read_csv(filename, sep=\",\", names =[\"timestamp\",\"ip_add\",\"statuscode\",\"endpoint\"])\n",
    "    unique = get_unique_visitors(df)\n",
    "    pop = get_popular_endpoints(df, top_n=5)\n",
    "    error_per = get_error_rate(df)\n",
    "\n",
    "    print(f\"\\n\\n\\nUnique Visitors Count : {unique}\")\n",
    "    print(f\"Most Popular Endpoints : {pop}\")\n",
    "    print(f\"Error Percentage : {error_per}\")"
   ]
  },
  {
   "cell_type": "code",
   "execution_count": 10,
   "id": "f430a088-0067-418d-977b-855a1b5387b1",
   "metadata": {},
   "outputs": [
    {
     "name": "stdout",
     "output_type": "stream",
     "text": [
      "Parsing Log Lines :\n",
      "('2024-03-18 10:15:23', '192.168.1.101', '200', '/home')\n",
      "('2024-03-18 10:15:25', '192.168.1.102', '404', '/profile/user123')\n",
      "('2024-03-18 10:15:30', '192.168.1.101', '200', '/about')\n",
      "('2024-03-18 10:15:45', '192.168.1.103', '200', '/products')\n",
      "('2024-03-18 10:16:01', '192.168.1.104', '500', '/api/data')\n",
      "('2024-03-18 10:16:15', '192.168.1.102', '200', '/home')\n",
      "('2024-03-18 10:16:30', '192.168.1.105', '404', '/blog/post123')\n",
      "('2024-03-18 10:16:45', '192.168.1.101', '200', '/products')\n",
      "('2024-03-18 10:17:00', '192.168.1.106', '200', '/home')\n",
      "('2024-03-18 10:17:15', '192.168.1.107', '403', '/admin')\n",
      "('2024-03-18 10:17:30', '192.168.1.102', '200', '/about')\n",
      "('2024-03-18 10:17:45', '192.168.1.108', '200', '/contact')\n",
      "('2024-03-18 10:18:00', '192.168.1.109', '500', '/api/users')\n",
      "('2024-03-18 10:18:15', '192.168.1.101', '200', '/home')\n",
      "('2024-03-18 10:18:30', '192.168.1.110', '200', '/products')\n",
      "('2024-03-18 10:18:45', '192.168.1.102', '404', '/images/logo.png')\n",
      "('2024-03-18 10:19:00', '192.168.1.111', '200', '/home')\n",
      "('2024-03-18 10:19:15', '192.168.1.112', '200', '/about')\n",
      "('2024-03-18 10:19:30', '192.168.1.101', '503', '/api/orders')\n",
      "('2024-03-18 10:19:45', '192.168.1.113', '200', '/products')\n",
      "('2024-03-18 10:20:00', '192.168.1.102', '200', '/contact')\n",
      "\n",
      "\n",
      "\n",
      "Unique Visitors Count : 13\n",
      "Most Popular Endpoints : [('/home', 5), ('/products', 4), ('/about', 3), ('/contact', 2), ('/profile/user123', 1)]\n",
      "Error Percentage : 33.33\n"
     ]
    }
   ],
   "source": [
    "generate_report(filename)"
   ]
  },
  {
   "cell_type": "code",
   "execution_count": null,
   "id": "a2f7c147-6f35-48bf-9c47-a245aaad11ec",
   "metadata": {},
   "outputs": [],
   "source": []
  },
  {
   "cell_type": "code",
   "execution_count": null,
   "id": "497407be-e152-4192-aeff-203ddae8475b",
   "metadata": {},
   "outputs": [],
   "source": []
  }
 ],
 "metadata": {
  "kernelspec": {
   "display_name": "Python 3 (ipykernel)",
   "language": "python",
   "name": "python3"
  },
  "language_info": {
   "codemirror_mode": {
    "name": "ipython",
    "version": 3
   },
   "file_extension": ".py",
   "mimetype": "text/x-python",
   "name": "python",
   "nbconvert_exporter": "python",
   "pygments_lexer": "ipython3",
   "version": "3.11.7"
  }
 },
 "nbformat": 4,
 "nbformat_minor": 5
}
