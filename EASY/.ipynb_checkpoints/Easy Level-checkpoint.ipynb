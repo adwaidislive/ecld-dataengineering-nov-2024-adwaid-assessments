{
 "cells": [
  {
   "cell_type": "markdown",
   "id": "d53f04c5",
   "metadata": {},
   "source": [
    "Q1 : Create a function that takes two arguments: the original price and the discount percentage as integers and returns the final price after the discount."
   ]
  },
  {
   "cell_type": "code",
   "execution_count": 2,
   "id": "3daedcf2",
   "metadata": {},
   "outputs": [
    {
     "data": {
      "text/plain": [
       "150.0"
      ]
     },
     "execution_count": 2,
     "metadata": {},
     "output_type": "execute_result"
    }
   ],
   "source": [
    "def dis(price,discount):\n",
    "    dis_price = price*(discount/100)\n",
    "    finalprice = price - dis_price\n",
    "    return finalprice\n",
    "\n",
    "dis(200,25)"
   ]
  },
  {
   "cell_type": "code",
   "execution_count": null,
   "id": "c01de818",
   "metadata": {},
   "outputs": [],
   "source": []
  }
 ],
 "metadata": {
  "kernelspec": {
   "display_name": "Python 3 (ipykernel)",
   "language": "python",
   "name": "python3"
  },
  "language_info": {
   "codemirror_mode": {
    "name": "ipython",
    "version": 3
   },
   "file_extension": ".py",
   "mimetype": "text/x-python",
   "name": "python",
   "nbconvert_exporter": "python",
   "pygments_lexer": "ipython3",
   "version": "3.12.3"
  }
 },
 "nbformat": 4,
 "nbformat_minor": 5
}
