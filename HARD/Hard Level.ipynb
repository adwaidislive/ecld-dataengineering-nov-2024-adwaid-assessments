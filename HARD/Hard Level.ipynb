{
 "cells": [
  {
   "cell_type": "markdown",
   "id": "306a99e3",
   "metadata": {},
   "source": [
    "# Q1- Algorithms: Binary Search"
   ]
  },
  {
   "cell_type": "markdown",
   "id": "fab4afdc",
   "metadata": {},
   "source": [
    "Create a function that finds a target number in a list of prime numbers. Implement a binary search algorithm in your function. \n",
    "\n",
    "The target number will be from 2 through 97. If the target is prime then return \"yes\" else return \"no\"."
   ]
  },
  {
   "cell_type": "code",
   "execution_count": 1,
   "id": "0edd3bd7",
   "metadata": {},
   "outputs": [],
   "source": [
    "def is_prime(primes,num):\n",
    "    high = len(primes)-1\n",
    "    low = 0\n",
    "    def binarySearch(primes,low,high,num):\n",
    "        if high>=low:\n",
    "            mid = low + (high - low) // 2\n",
    "            if primes[mid] == num:\n",
    "                return 'yes'\n",
    "            \n",
    "            elif (num < primes[mid]):\n",
    "                return binarySearch(primes, low, mid-1, num)\n",
    "        \n",
    "            else:\n",
    "                return binarySearch(primes, mid+1, high, num)\n",
    "            \n",
    "        else:\n",
    "            return 'no'\n",
    "        \n",
    "    return binarySearch(primes,low,high,num)\n",
    "        \n",
    "        "
   ]
  },
  {
   "cell_type": "code",
   "execution_count": 2,
   "id": "062e76f7",
   "metadata": {},
   "outputs": [
    {
     "data": {
      "text/plain": [
       "'no'"
      ]
     },
     "execution_count": 2,
     "metadata": {},
     "output_type": "execute_result"
    }
   ],
   "source": [
    "primes = [2, 3, 5, 7, 11, 13, 17, 19, 23, 29, 31, 37, 41, 43, 47, 53, 59, 61, 67, 71, 73, 79, 83, 89, 97]\n",
    "is_prime(primes,4)"
   ]
  },
  {
   "cell_type": "markdown",
   "id": "8b9d3f47",
   "metadata": {},
   "source": [
    "# Q2 - Checking Palindrome String Using Stack"
   ]
  },
  {
   "cell_type": "code",
   "execution_count": 3,
   "id": "6166fe6e",
   "metadata": {},
   "outputs": [],
   "source": [
    "# Use the Stack Please. Not word == word[::-1]\n",
    "\n",
    "class Stack:\n",
    "    def __init__(self):\n",
    "        self.data = []\n",
    "\n",
    "    def size(self):\n",
    "        return len(self.data)\n",
    "\n",
    "    def push(self, element):\n",
    "        self.data.append(element)\n",
    "\n",
    "    def peek_top(self):\n",
    "        if self.size() == 0:\n",
    "            return \"Stack Is Empty\"\n",
    "        return self.data[-1]\n",
    "\n",
    "    def pop(self):\n",
    "        if self.size() == 0:\n",
    "            return \"Stack Is Empty\"\n",
    "        return self.data.pop()\n",
    "\n",
    "\n",
    "\n",
    "\n",
    "def is_palindrome(word):\n",
    "    s = Stack()\n",
    "    # Inserting the input word into stack\n",
    "    for l in word:\n",
    "        s.push(l)\n",
    "        \n",
    "    # Poping each word from stack and comparing it with the word letter by letter\n",
    "    for l in word:\n",
    "        last = s.pop()\n",
    "        if (l != last):\n",
    "            return False        \n",
    "    return True\n",
    "\n",
    "        "
   ]
  },
  {
   "cell_type": "code",
   "execution_count": 4,
   "id": "28af0e9c",
   "metadata": {},
   "outputs": [
    {
     "data": {
      "text/plain": [
       "True"
      ]
     },
     "execution_count": 4,
     "metadata": {},
     "output_type": "execute_result"
    }
   ],
   "source": [
    "is_palindrome('malayalam')\n"
   ]
  },
  {
   "cell_type": "markdown",
   "id": "2ddeef3f",
   "metadata": {},
   "source": [
    "# Q3 Combine Arrays"
   ]
  },
  {
   "cell_type": "markdown",
   "id": "76337612",
   "metadata": {},
   "source": [
    "Create a function that takes three lists and returns one list where all passed arrays are combined into nested lists.\n",
    "\n",
    "\n",
    "These lists should be combined based on indexes: the first nested list should contain only the items on index 0, the second list on index 1, and so on.\n",
    "\n",
    "\n",
    "If any list contains fewer items than necessary, supplement the missing item with \"*\"."
   ]
  },
  {
   "cell_type": "code",
   "execution_count": 5,
   "id": "dd33c2f8",
   "metadata": {},
   "outputs": [],
   "source": [
    "def combine_lists(lst1,lst2,lst3):\n",
    "    if len(lst1) >len(lst2):\n",
    "        if len(lst1) > len(lst3):\n",
    "            n = len(lst1)\n",
    "        else:\n",
    "            n = len(lst3)\n",
    "    else:\n",
    "        if len(lst2) > len(lst3):\n",
    "            n = len(lst2)\n",
    "        else:\n",
    "            n = len(lst3)\n",
    "            \n",
    "    lst4 = []\n",
    "    for i in range(n):\n",
    "        lst4.append([])\n",
    "        \n",
    "        try:\n",
    "            lst4[i].append(lst1[i])\n",
    "        except IndexError:\n",
    "            lst4[i].append(\"*\")\n",
    "        \n",
    "        try:\n",
    "            lst4[i].append(lst2[i])\n",
    "        except IndexError:\n",
    "            lst4[i].append(\"*\")\n",
    "        \n",
    "        try :\n",
    "            lst4[i].append(lst3[i])\n",
    "        except IndexError:\n",
    "            lst4[i].append(\"*\")\n",
    "        \n",
    "    return lst4"
   ]
  },
  {
   "cell_type": "code",
   "execution_count": 6,
   "id": "c76586d1",
   "metadata": {},
   "outputs": [
    {
     "data": {
      "text/plain": [
       "[[1, 4, 7], [2, 5, 8], [3, 6, '*'], [4, '*', '*']]"
      ]
     },
     "execution_count": 6,
     "metadata": {},
     "output_type": "execute_result"
    }
   ],
   "source": [
    "combine_lists([1, 2, 3, 4], [4, 5, 6], [7, 8,])"
   ]
  },
  {
   "cell_type": "markdown",
   "id": "926986fa",
   "metadata": {},
   "source": [
    "# Q4 Remove The Word!"
   ]
  },
  {
   "cell_type": "markdown",
   "id": "adab2a1c",
   "metadata": {},
   "source": [
    "Create a function that takes a list and string. The function should remove the letters in the string from the list, and return the list.\n",
    "\n"
   ]
  },
  {
   "cell_type": "code",
   "execution_count": 7,
   "id": "3e41d6ae",
   "metadata": {},
   "outputs": [],
   "source": [
    "def remove_letters(letters, word):\n",
    "    for l in word:\n",
    "        if l in letters:\n",
    "            letters.remove(l)\n",
    "    return letters"
   ]
  },
  {
   "cell_type": "code",
   "execution_count": 8,
   "id": "42a74664",
   "metadata": {},
   "outputs": [
    {
     "data": {
      "text/plain": [
       "['w']"
      ]
     },
     "execution_count": 8,
     "metadata": {},
     "output_type": "execute_result"
    }
   ],
   "source": [
    "remove_letters([\"s\", \"t\", \"r\", \"i\", \"n\", \"g\", \"w\"],\"string\")"
   ]
  },
  {
   "cell_type": "markdown",
   "id": "6756d044",
   "metadata": {},
   "source": [
    "# Q5 Convert to Hex"
   ]
  },
  {
   "cell_type": "markdown",
   "id": "9c40c95f",
   "metadata": {},
   "source": [
    "Create a function that takes a string's characters as ASCII and returns each character's hexadecimal value as a string."
   ]
  },
  {
   "cell_type": "code",
   "execution_count": 9,
   "id": "00b301e7",
   "metadata": {},
   "outputs": [
    {
     "data": {
      "text/plain": [
       "32"
      ]
     },
     "execution_count": 9,
     "metadata": {},
     "output_type": "execute_result"
    }
   ],
   "source": [
    "ord(' ')"
   ]
  },
  {
   "cell_type": "code",
   "execution_count": 10,
   "id": "18186a75",
   "metadata": {},
   "outputs": [
    {
     "data": {
      "text/plain": [
       "'0x20'"
      ]
     },
     "execution_count": 10,
     "metadata": {},
     "output_type": "execute_result"
    }
   ],
   "source": [
    "hex(32)"
   ]
  },
  {
   "cell_type": "code",
   "execution_count": 11,
   "id": "c6434172",
   "metadata": {},
   "outputs": [],
   "source": [
    "def convert_to_hex(txt):\n",
    "    #txt = txt.lower()\n",
    "    hex_val = \"\"\n",
    "    for l in txt:\n",
    "        val = hex(ord(l))\n",
    "        val = val.replace(\"x\",\"\")\n",
    "        idx = val.find(\"0\")\n",
    "        if idx != -1:\n",
    "            val = val[:idx] + val[idx+1:]\n",
    "\n",
    "        if hex_val == \"\":\n",
    "            hex_val += val\n",
    "        else:\n",
    "            hex_val += \" \" + val\n",
    "    return hex_val"
   ]
  },
  {
   "cell_type": "code",
   "execution_count": 12,
   "id": "7e784e3b",
   "metadata": {},
   "outputs": [
    {
     "data": {
      "text/plain": [
       "'4d 61 72 74 79 20 50 6f 70 70 69 6e 73 6f 6e'"
      ]
     },
     "execution_count": 12,
     "metadata": {},
     "output_type": "execute_result"
    }
   ],
   "source": [
    "convert_to_hex('Marty Poppinson')"
   ]
  },
  {
   "cell_type": "markdown",
   "id": "d39365fe-c7e5-4b24-9d97-c5068872601a",
   "metadata": {},
   "source": [
    "# Q6 Basic Arithmetic Operations on a String Number\n",
    "\n",
    "Create a function to perform basic arithmetic operations that includes addition, subtraction, multiplication and division on a string number (e.g. \"12 + 24\" or \"23 - 21\" or \"12 // 12\" or \"12 * 21\").\n",
    "\n",
    "\n",
    "Here, we have 1 followed by a space, operator followed by another space and 2. For the challenge, we are going to have only two numbers between 1 valid operator. The return value should be a number.\n",
    "\n",
    "\n",
    "eval() is not allowed. In case of division, whenever the second number equals \"0\" return -1.\n",
    "\n",
    "For example:\n",
    "\n",
    "arithmetic_operation(\"12 + 12\") ➞ 24 // 12 + 12 = 24\n",
    "\n",
    "\n",
    "arithmetic_operation(\"12 - 12\") ➞ 24 // 12 - 12 = 0\n",
    "\n",
    "\n",
    "arithmetic_operation(\"12 * 12\") ➞ 144 // 12 * 12 = 144\n",
    "\n",
    "\n",
    "arithmetic_operation(\"12 // 0\") ➞ -1 // 12 / 0 = -1"
   ]
  },
  {
   "cell_type": "code",
   "execution_count": 13,
   "id": "d1b8796e-67e8-4d00-a0cf-4e414e735023",
   "metadata": {},
   "outputs": [],
   "source": [
    "def arithmetic_operation(n):\n",
    "    n = n.split(' ')\n",
    "    if(n[1] == '+'):\n",
    "        return (int(n[0]) + int(n[2]))\n",
    "    elif(n[1] == '-'):\n",
    "        return (int(n[0]) - int(n[2]))\n",
    "    elif(n[1] == '*'):\n",
    "        return (int(n[0]) * int(n[2]))\n",
    "    elif(n[1] == '//'):\n",
    "        if(int(n[2]) == 0):\n",
    "            return -1\n",
    "        else:\n",
    "            return (int(n[0]) // int(n[2]))"
   ]
  },
  {
   "cell_type": "code",
   "execution_count": 14,
   "id": "d21a9d74-bd53-407f-89a4-c80f99fd1225",
   "metadata": {},
   "outputs": [
    {
     "data": {
      "text/plain": [
       "24"
      ]
     },
     "execution_count": 14,
     "metadata": {},
     "output_type": "execute_result"
    }
   ],
   "source": [
    "arithmetic_operation(\"12 + 12\")"
   ]
  },
  {
   "cell_type": "markdown",
   "id": "277aa63e-4a3f-4c02-a31b-856f8b4064a1",
   "metadata": {},
   "source": [
    "# Q 7 Track the Robot (Part 1)"
   ]
  },
  {
   "cell_type": "markdown",
   "id": "6b83e185-1b88-4db0-8beb-97a058c45e90",
   "metadata": {},
   "source": [
    "A robot has been given a list of movement instructions. Each instruction is either left, right, up or down, followed by a distance to move. The robot starts at [0, 0]. You want to calculate where the robot will end up and return its final position as a list.\n",
    "\n",
    "To illustrate, if the robot is given the following instructions:\n",
    "\n",
    "[\"right 10\", \"up 50\", \"left 30\", \"down 10\"]\n",
    "\n",
    "It will end up 20 left and 40 up from where it started, so we return [-20, 40]."
   ]
  },
  {
   "cell_type": "code",
   "execution_count": 15,
   "id": "a513ffcd-3b5a-4745-a7a2-5d67db5a532b",
   "metadata": {},
   "outputs": [],
   "source": [
    "example = [\"right 10\", \"up 50\", \"left 30\", \"down 10\"]"
   ]
  },
  {
   "cell_type": "code",
   "execution_count": 16,
   "id": "da77c774-e0c2-4829-98eb-ae2f89c8de05",
   "metadata": {},
   "outputs": [],
   "source": [
    "def track_robot(instructions):\n",
    "    val = [0,0]\n",
    "    for i in instructions:\n",
    "        f = i.split(\" \")\n",
    "        f[1]=int(f[1])\n",
    "        if (f[0] == 'right'):\n",
    "            val[0] += f[1]\n",
    "        elif (f[0] == 'left'):\n",
    "            val[0] -= f[1]\n",
    "        elif (f[0] == 'up'):\n",
    "            val[1] += f[1]\n",
    "        elif (f[0] == 'down'):\n",
    "            val[1] -= f[1]\n",
    "\n",
    "    return val"
   ]
  },
  {
   "cell_type": "code",
   "execution_count": 17,
   "id": "c0f561a3-dfd2-4a58-876c-e39fde97011e",
   "metadata": {},
   "outputs": [
    {
     "data": {
      "text/plain": [
       "[-20, 40]"
      ]
     },
     "execution_count": 17,
     "metadata": {},
     "output_type": "execute_result"
    }
   ],
   "source": [
    "track_robot(example)"
   ]
  },
  {
   "cell_type": "markdown",
   "id": "5b487a4d-7069-424e-95a9-35e1caade1d9",
   "metadata": {},
   "source": [
    "# Q8 How Many \"Prime Numbers\" Are There?"
   ]
  },
  {
   "cell_type": "markdown",
   "id": "dc7a5c37-ec87-485f-a79b-78a68648b6a1",
   "metadata": {},
   "source": [
    "Create a function that finds how many prime numbers there are, up to the given integer.\n",
    "\n",
    "prime_numbers(10) ➞ 4\n",
    "\n",
    "\n",
    "prime_numbers(20) ➞ 8\n",
    "\n",
    "\n",
    "prime_numbers(30) ➞ 10\n",
    "\n"
   ]
  },
  {
   "cell_type": "code",
   "execution_count": 18,
   "id": "3efc9317-40a2-427b-88f8-894660c0b611",
   "metadata": {},
   "outputs": [],
   "source": [
    "def prime_numbers(n):\n",
    "    if n < 2:\n",
    "        return 0\n",
    "    \n",
    "    primes = [True] * n\n",
    "    primes[0] = primes[1] = False\n",
    "    \n",
    "    for i in range(2, int(n ** 0.5) + 1):\n",
    "        if primes[i]:\n",
    "            for j in range(i * i, n, i):\n",
    "                primes[j] = False\n",
    "    \n",
    "    count = sum(primes)\n",
    "    return count\n"
   ]
  },
  {
   "cell_type": "code",
   "execution_count": 19,
   "id": "ec1aaf64-8404-4cc9-a4c8-ae3ddb92a820",
   "metadata": {},
   "outputs": [
    {
     "data": {
      "text/plain": [
       "8"
      ]
     },
     "execution_count": 19,
     "metadata": {},
     "output_type": "execute_result"
    }
   ],
   "source": [
    "prime_numbers(20)"
   ]
  },
  {
   "cell_type": "markdown",
   "id": "e5e05d1c-2a6e-4921-b0b9-bb266b100a6a",
   "metadata": {},
   "source": [
    "# Q9 Find the Difference"
   ]
  },
  {
   "cell_type": "markdown",
   "id": "dd2d9ae3-7f11-442e-9963-93bf8fb3f0b7",
   "metadata": {},
   "source": [
    "You are given two strings s and t. String t is generated by randomly shuffling string s and then adding one more letter at a random position. Return the letter that was added to t.\n",
    "\n",
    "\n",
    "Examples\n",
    "\n",
    "find_the_difference(\"abcd\", \"abcde\") ➞ \"e\"\n",
    "\n",
    "\n",
    "find_the_difference(\"\", \"y\") ➞ \"y\"\n",
    "\n",
    "\n",
    "find_the_difference(\"ae\", \"aea\") ➞ \"a\""
   ]
  },
  {
   "cell_type": "code",
   "execution_count": 20,
   "id": "dccaceb6-d239-4a39-8bcb-1a14e0230883",
   "metadata": {},
   "outputs": [],
   "source": [
    "def find_the_difference(s, t):\n",
    "    if(len(t)>len(s)):\n",
    "        lst1 = []\n",
    "        for l in s:\n",
    "            lst1.append(l)\n",
    "        for letter in t:\n",
    "            if (letter not in lst1):\n",
    "                return letter\n",
    "            else:\n",
    "                lst1.remove(letter)\n",
    "            \n",
    "    else:\n",
    "        lst1 = []\n",
    "        for l in t:\n",
    "            lst1.append(l)\n",
    "        for letter in s:\n",
    "            if (letter not in lst1):\n",
    "                return letter\n",
    "            else:\n",
    "                lst1.remove(letter)"
   ]
  },
  {
   "cell_type": "code",
   "execution_count": 21,
   "id": "04ec71d7-fb2c-4b04-9d64-918fd416a502",
   "metadata": {},
   "outputs": [
    {
     "data": {
      "text/plain": [
       "'e'"
      ]
     },
     "execution_count": 21,
     "metadata": {},
     "output_type": "execute_result"
    }
   ],
   "source": [
    "find_the_difference(\"abcd\", \"abcde\")"
   ]
  },
  {
   "cell_type": "code",
   "execution_count": 22,
   "id": "1d88bf5d-5891-40af-8819-3893d92406f3",
   "metadata": {},
   "outputs": [
    {
     "data": {
      "text/plain": [
       "'a'"
      ]
     },
     "execution_count": 22,
     "metadata": {},
     "output_type": "execute_result"
    }
   ],
   "source": [
    "find_the_difference(\"ae\", \"aea\")"
   ]
  },
  {
   "cell_type": "markdown",
   "id": "b302274c-c6b4-499a-8316-1a971b552623",
   "metadata": {},
   "source": [
    "# Q10 In N Days..."
   ]
  },
  {
   "cell_type": "markdown",
   "id": "c4152f2f-8469-4670-ae83-54d1598751c9",
   "metadata": {},
   "source": [
    "If today was Monday, in two days, it would be Wednesday.\n",
    "\n",
    "Create a function that takes in a list of days as input and the number of days to increment by. Return a list of days after n number of days has passed.\n",
    "\n",
    "Examples\n",
    "\n",
    "after_n_days([\"Thursday\", \"Monday\"], 4) ➞ [\"Monday\", \"Friday\"]\n",
    "\n",
    "after_n_days([\"Sunday\", \"Sunday\", \"Sunday\"], 1) ➞ [\"Monday\", \"Monday\", \"Monday\"]\n",
    "\n",
    "after_n_days([\"Monday\", \"Tuesday\", \"Friday\"], 1) ➞ [\"Tuesday\", \"Wednesday\", \"Saturday\"]"
   ]
  },
  {
   "cell_type": "code",
   "execution_count": 23,
   "id": "f4e220c1-3efd-4a84-af0d-046b96471b27",
   "metadata": {},
   "outputs": [],
   "source": [
    "def after_n_days(days, n):\n",
    "    week = [\"Sunday\",\"Monday\",\"Tuesday\",\"Wednesday\",\"Thursday\",\"Friday\",\"Saturday\"]\n",
    "    n = n % 7\n",
    "    outputdays = []\n",
    "    for day in days:\n",
    "        initial_val = week.index(day)\n",
    "        final = week[(initial_val + n) % 7]\n",
    "        outputdays.append(final)\n",
    "    \n",
    "    return outputdays\n",
    "    \n"
   ]
  },
  {
   "cell_type": "code",
   "execution_count": 24,
   "id": "0b969fdf-bd3f-443a-ad01-0e3e2f2e4b3e",
   "metadata": {},
   "outputs": [
    {
     "name": "stdout",
     "output_type": "stream",
     "text": [
      "['Monday', 'Friday']\n",
      "['Monday', 'Monday', 'Monday']\n"
     ]
    }
   ],
   "source": [
    "print(after_n_days([\"Thursday\", \"Monday\"], 4))  # Expected [\"Monday\", \"Friday\"]\n",
    "print (after_n_days([\"Sunday\", \"Sunday\", \"Sunday\"], 1)) # ➞ [\"Monday\", \"Monday\", \"Monday\"]"
   ]
  },
  {
   "cell_type": "markdown",
   "id": "1f3c722e-b2ad-40ec-a19c-bcfcc50f06c4",
   "metadata": {},
   "source": [
    "# Q11 Calculated Bonus"
   ]
  },
  {
   "cell_type": "markdown",
   "id": "0e1584e3-9f9d-407d-a0d5-c40ac0a485af",
   "metadata": {},
   "source": [
    "A financial institution provides professional services to banks and claims charges from the customers based on the number of man-days provided. Internally, it has set a scheme to motivate and reward staff to meet and exceed targeted billable utilization and revenues by paying a bonus for each day claimed from customers in excess of a threshold target.\n",
    "\n",
    "\n",
    "This quarterly scheme is calculated with a threshold target of 32 days per quarter, and the incentive payment for each billable day in excess of such threshold target is shown as follows:"
   ]
  },
  {
   "cell_type": "markdown",
   "id": "8eb4d2f2-2ea3-4b71-9712-79d3705d8e8b",
   "metadata": {},
   "source": [
    "Days   -\tBonus\n",
    "\n",
    "0 to 32 days  = \tZero\n",
    "\n",
    "33 to 40 days  =\t SGD$325 per billable day\n",
    "\n",
    "41 to 48 days   = \tSGD$550 per billable day\n",
    "\n",
    "Greater than 48 days  = \tSGD$600 per billable day\n",
    "\n",
    "\n",
    "Please note that incentive payment is calculated progressively. \n",
    "As an example, if an employee reached total billable days of 45 in a quarter, his/her incentive payment is computed as follows:\n",
    "\n",
    "32*0 + 8*325 + 5*550 = 5350\n",
    "\n",
    "Write a function to read the billable days of an employee and return the bonus he/she has obtained in that quarter."
   ]
  },
  {
   "cell_type": "code",
   "execution_count": 42,
   "id": "270bd61b-efe6-47ea-8e0f-21cd9aa9a860",
   "metadata": {},
   "outputs": [
    {
     "name": "stdin",
     "output_type": "stream",
     "text": [
      "Enter number of days:  45\n"
     ]
    },
    {
     "name": "stdout",
     "output_type": "stream",
     "text": [
      "5350\n"
     ]
    }
   ],
   "source": [
    "def bonus(days):\n",
    "    if days < 0:\n",
    "        raise ValueError(\"Days cannot be negative\")\n",
    "\n",
    "    if days <= 32:\n",
    "        return 0\n",
    "    elif days <= 40:\n",
    "        return (days - 32) * 325\n",
    "    elif days <= 48:\n",
    "        return (8 * 325) + (days - 40) * 550\n",
    "    else:\n",
    "        return (8 * 325) + (8 * 550) + (days - 48) * 600\n",
    "\n",
    "try:\n",
    "    days = int(input(\"Enter number of days: \"))\n",
    "    print(bonus(days))\n",
    "except ValueError as e:\n",
    "    print(f\"Invalid input: {e}\")"
   ]
  },
  {
   "cell_type": "markdown",
   "id": "36d1e20b-992e-40b4-98c0-0a83c21a6749",
   "metadata": {},
   "source": [
    "# Q12 Power Ranger"
   ]
  },
  {
   "cell_type": "markdown",
   "id": "d03afc37-f845-4e6d-93d1-f334d01e1e57",
   "metadata": {},
   "source": [
    "Create a function that takes in n, a, b and returns the number of positive values raised to the nth power that lie in the range [a, b], inclusive."
   ]
  },
  {
   "cell_type": "markdown",
   "id": "311738ec-71d1-4d65-9677-7f42ebf8af7c",
   "metadata": {},
   "source": [
    "Examples\n",
    "\n",
    "power_ranger(2, 49, 65) ➞ 2\n",
    "\n",
    " 2 squares (n^2) lie between 49 and 65, 49 (7^2) and 64 (8^2)\n",
    "\n",
    "\n",
    "power_ranger(3, 1, 27) ➞ 3\n",
    "\n",
    " 3 cubes (n^3) lie between 1 and 27, 1 (1^3), 8 (2^3) and 27 (3^3)\n",
    "\n",
    "\n",
    "power_ranger(10, 1, 5) ➞ 1\n",
    "\n",
    "1 value raised to the 10th power lies between 1 and 5, 1 (1^10)\n",
    "\n",
    "\n",
    "power_ranger(5, 31, 33) ➞ 1\n",
    "\n",
    "\n",
    "power_ranger(4, 250, 1300) ➞ 3\n",
    "\n",
    "Notes\n",
    "\n",
    "Remember that the range is inclusive.\n",
    "\n",
    "a < b will always be true."
   ]
  },
  {
   "cell_type": "code",
   "execution_count": 45,
   "id": "682091ef-f48b-43c6-8389-0435beec1cce",
   "metadata": {},
   "outputs": [
    {
     "data": {
      "text/plain": [
       "27"
      ]
     },
     "execution_count": 45,
     "metadata": {},
     "output_type": "execute_result"
    }
   ],
   "source": [
    "import math as m\n",
    "int(m.pow(3,3))"
   ]
  },
  {
   "cell_type": "code",
   "execution_count": null,
   "id": "bbfd7dfe-8932-49da-8af6-79f3152a39ee",
   "metadata": {},
   "outputs": [],
   "source": []
  }
 ],
 "metadata": {
  "kernelspec": {
   "display_name": "Python 3 (ipykernel)",
   "language": "python",
   "name": "python3"
  },
  "language_info": {
   "codemirror_mode": {
    "name": "ipython",
    "version": 3
   },
   "file_extension": ".py",
   "mimetype": "text/x-python",
   "name": "python",
   "nbconvert_exporter": "python",
   "pygments_lexer": "ipython3",
   "version": "3.11.7"
  }
 },
 "nbformat": 4,
 "nbformat_minor": 5
}
