{
 "cells": [
  {
   "cell_type": "markdown",
   "id": "b439ca53",
   "metadata": {},
   "source": [
    "# Q1- Algorithms: Binary Search"
   ]
  },
  {
   "cell_type": "markdown",
   "id": "28862f2e",
   "metadata": {},
   "source": [
    "Create a function that finds a target number in a list of prime numbers. Implement a binary search algorithm in your function. \n",
    "\n",
    "The target number will be from 2 through 97. If the target is prime then return \"yes\" else return \"no\"."
   ]
  },
  {
   "cell_type": "code",
   "execution_count": 19,
   "id": "d79c7f75",
   "metadata": {},
   "outputs": [],
   "source": [
    "def is_prime(primes,num):\n",
    "    high = len(primes)-1\n",
    "    low = 0\n",
    "    def binarySearch(primes,low,high,num):\n",
    "        if high>=low:\n",
    "            mid = low + (high - low) // 2\n",
    "            if primes[mid] == num:\n",
    "                return 'yes'\n",
    "            \n",
    "            elif (num < primes[mid]):\n",
    "                return binarySearch(primes, low, mid-1, num)\n",
    "        \n",
    "            else:\n",
    "                return binarySearch(primes, mid+1, high, num)\n",
    "            \n",
    "        else:\n",
    "            return 'no'\n",
    "        \n",
    "    return binarySearch(primes,low,high,num)\n",
    "        \n",
    "        "
   ]
  },
  {
   "cell_type": "code",
   "execution_count": 20,
   "id": "ec481eca",
   "metadata": {},
   "outputs": [
    {
     "data": {
      "text/plain": [
       "'no'"
      ]
     },
     "execution_count": 20,
     "metadata": {},
     "output_type": "execute_result"
    }
   ],
   "source": [
    "primes = [2, 3, 5, 7, 11, 13, 17, 19, 23, 29, 31, 37, 41, 43, 47, 53, 59, 61, 67, 71, 73, 79, 83, 89, 97]\n",
    "is_prime(primes,4)"
   ]
  },
  {
   "cell_type": "markdown",
   "id": "6407a8b1",
   "metadata": {},
   "source": [
    "# Q2 - Checking Palindrome String Using Stack"
   ]
  },
  {
   "cell_type": "code",
   "execution_count": 50,
   "id": "359ba84f",
   "metadata": {},
   "outputs": [],
   "source": [
    "# Use the Stack Please. Not word == word[::-1]\n",
    "\n",
    "class Stack:\n",
    "    def __init__(self):\n",
    "        self.data = []\n",
    "\n",
    "    def size(self):\n",
    "        return len(self.data)\n",
    "\n",
    "    def push(self, element):\n",
    "        self.data.append(element)\n",
    "\n",
    "    def peek_top(self):\n",
    "        if self.size() == 0:\n",
    "            return \"Stack Is Empty\"\n",
    "        return self.data[-1]\n",
    "\n",
    "    def pop(self):\n",
    "        if self.size() == 0:\n",
    "            return \"Stack Is Empty\"\n",
    "        return self.data.pop()\n",
    "\n",
    "\n",
    "\n",
    "\n",
    "def is_palindrome(word):\n",
    "    s = Stack()\n",
    "    # Inserting the input word into stack\n",
    "    for l in word:\n",
    "        s.push(l)\n",
    "        \n",
    "    # Poping each word from stack and comparing it with the word letter by letter\n",
    "    for l in word:\n",
    "        last = s.pop()\n",
    "        if (l != last):\n",
    "            return False        \n",
    "    return True\n",
    "\n",
    "        "
   ]
  },
  {
   "cell_type": "code",
   "execution_count": 53,
   "id": "fb47d582",
   "metadata": {},
   "outputs": [
    {
     "data": {
      "text/plain": [
       "True"
      ]
     },
     "execution_count": 53,
     "metadata": {},
     "output_type": "execute_result"
    }
   ],
   "source": [
    "is_palindrome('malayalam')\n"
   ]
  },
  {
   "cell_type": "code",
   "execution_count": 41,
   "id": "2fdfe5d8",
   "metadata": {},
   "outputs": [
    {
     "data": {
      "text/plain": [
       "'a'"
      ]
     },
     "execution_count": 41,
     "metadata": {},
     "output_type": "execute_result"
    }
   ],
   "source": [
    "s.pop()"
   ]
  },
  {
   "cell_type": "code",
   "execution_count": null,
   "id": "f6aa23da",
   "metadata": {},
   "outputs": [],
   "source": []
  }
 ],
 "metadata": {
  "kernelspec": {
   "display_name": "Python 3 (ipykernel)",
   "language": "python",
   "name": "python3"
  },
  "language_info": {
   "codemirror_mode": {
    "name": "ipython",
    "version": 3
   },
   "file_extension": ".py",
   "mimetype": "text/x-python",
   "name": "python",
   "nbconvert_exporter": "python",
   "pygments_lexer": "ipython3",
   "version": "3.12.3"
  }
 },
 "nbformat": 4,
 "nbformat_minor": 5
}
