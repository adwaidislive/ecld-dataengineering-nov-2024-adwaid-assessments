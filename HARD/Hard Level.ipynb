{
 "cells": [
  {
   "cell_type": "markdown",
   "id": "306a99e3",
   "metadata": {},
   "source": [
    "# Q1- Algorithms: Binary Search"
   ]
  },
  {
   "cell_type": "markdown",
   "id": "fab4afdc",
   "metadata": {},
   "source": [
    "Create a function that finds a target number in a list of prime numbers. Implement a binary search algorithm in your function. \n",
    "\n",
    "The target number will be from 2 through 97. If the target is prime then return \"yes\" else return \"no\"."
   ]
  },
  {
   "cell_type": "code",
   "execution_count": 19,
   "id": "0edd3bd7",
   "metadata": {},
   "outputs": [],
   "source": [
    "def is_prime(primes,num):\n",
    "    high = len(primes)-1\n",
    "    low = 0\n",
    "    def binarySearch(primes,low,high,num):\n",
    "        if high>=low:\n",
    "            mid = low + (high - low) // 2\n",
    "            if primes[mid] == num:\n",
    "                return 'yes'\n",
    "            \n",
    "            elif (num < primes[mid]):\n",
    "                return binarySearch(primes, low, mid-1, num)\n",
    "        \n",
    "            else:\n",
    "                return binarySearch(primes, mid+1, high, num)\n",
    "            \n",
    "        else:\n",
    "            return 'no'\n",
    "        \n",
    "    return binarySearch(primes,low,high,num)\n",
    "        \n",
    "        "
   ]
  },
  {
   "cell_type": "code",
   "execution_count": 20,
   "id": "062e76f7",
   "metadata": {},
   "outputs": [
    {
     "data": {
      "text/plain": [
       "'no'"
      ]
     },
     "execution_count": 20,
     "metadata": {},
     "output_type": "execute_result"
    }
   ],
   "source": [
    "primes = [2, 3, 5, 7, 11, 13, 17, 19, 23, 29, 31, 37, 41, 43, 47, 53, 59, 61, 67, 71, 73, 79, 83, 89, 97]\n",
    "is_prime(primes,4)"
   ]
  },
  {
   "cell_type": "markdown",
   "id": "8b9d3f47",
   "metadata": {},
   "source": [
    "# Q2 - Checking Palindrome String Using Stack"
   ]
  },
  {
   "cell_type": "code",
   "execution_count": 50,
   "id": "6166fe6e",
   "metadata": {},
   "outputs": [],
   "source": [
    "# Use the Stack Please. Not word == word[::-1]\n",
    "\n",
    "class Stack:\n",
    "    def __init__(self):\n",
    "        self.data = []\n",
    "\n",
    "    def size(self):\n",
    "        return len(self.data)\n",
    "\n",
    "    def push(self, element):\n",
    "        self.data.append(element)\n",
    "\n",
    "    def peek_top(self):\n",
    "        if self.size() == 0:\n",
    "            return \"Stack Is Empty\"\n",
    "        return self.data[-1]\n",
    "\n",
    "    def pop(self):\n",
    "        if self.size() == 0:\n",
    "            return \"Stack Is Empty\"\n",
    "        return self.data.pop()\n",
    "\n",
    "\n",
    "\n",
    "\n",
    "def is_palindrome(word):\n",
    "    s = Stack()\n",
    "    # Inserting the input word into stack\n",
    "    for l in word:\n",
    "        s.push(l)\n",
    "        \n",
    "    # Poping each word from stack and comparing it with the word letter by letter\n",
    "    for l in word:\n",
    "        last = s.pop()\n",
    "        if (l != last):\n",
    "            return False        \n",
    "    return True\n",
    "\n",
    "        "
   ]
  },
  {
   "cell_type": "code",
   "execution_count": 53,
   "id": "28af0e9c",
   "metadata": {},
   "outputs": [
    {
     "data": {
      "text/plain": [
       "True"
      ]
     },
     "execution_count": 53,
     "metadata": {},
     "output_type": "execute_result"
    }
   ],
   "source": [
    "is_palindrome('malayalam')\n"
   ]
  },
  {
   "cell_type": "markdown",
   "id": "2ddeef3f",
   "metadata": {},
   "source": [
    "# Q3 Combine Arrays"
   ]
  },
  {
   "cell_type": "markdown",
   "id": "76337612",
   "metadata": {},
   "source": [
    "Create a function that takes three lists and returns one list where all passed arrays are combined into nested lists.\n",
    "\n",
    "\n",
    "These lists should be combined based on indexes: the first nested list should contain only the items on index 0, the second list on index 1, and so on.\n",
    "\n",
    "\n",
    "If any list contains fewer items than necessary, supplement the missing item with \"*\"."
   ]
  },
  {
   "cell_type": "code",
   "execution_count": 67,
   "id": "dd33c2f8",
   "metadata": {},
   "outputs": [],
   "source": [
    "def combine_lists(lst1,lst2,lst3):\n",
    "    if len(lst1) >len(lst2):\n",
    "        if len(lst1) > len(lst3):\n",
    "            n = len(lst1)\n",
    "        else:\n",
    "            n = len(lst3)\n",
    "    else:\n",
    "        if len(lst2) > len(lst3):\n",
    "            n = len(lst2)\n",
    "        else:\n",
    "            n = len(lst3)\n",
    "            \n",
    "    lst4 = []\n",
    "    for i in range(n):\n",
    "        lst4.append([])\n",
    "        \n",
    "        try:\n",
    "            lst4[i].append(lst1[i])\n",
    "        except IndexError:\n",
    "            lst4[i].append(\"*\")\n",
    "        \n",
    "        try:\n",
    "            lst4[i].append(lst2[i])\n",
    "        except IndexError:\n",
    "            lst4[i].append(\"*\")\n",
    "        \n",
    "        try :\n",
    "            lst4[i].append(lst3[i])\n",
    "        except IndexError:\n",
    "            lst4[i].append(\"*\")\n",
    "        \n",
    "    return lst4"
   ]
  },
  {
   "cell_type": "code",
   "execution_count": 68,
   "id": "c76586d1",
   "metadata": {},
   "outputs": [
    {
     "data": {
      "text/plain": [
       "[[1, 4, 7], [2, 5, 8], [3, 6, '*']]"
      ]
     },
     "execution_count": 68,
     "metadata": {},
     "output_type": "execute_result"
    }
   ],
   "source": [
    "combine_lists([1, 2, 3], [4, 5, 6], [7, 8,])"
   ]
  },
  {
   "cell_type": "markdown",
   "id": "926986fa",
   "metadata": {},
   "source": [
    "# Q4 Remove The Word!"
   ]
  },
  {
   "cell_type": "markdown",
   "id": "adab2a1c",
   "metadata": {},
   "source": [
    "Create a function that takes a list and string. The function should remove the letters in the string from the list, and return the list.\n",
    "\n"
   ]
  },
  {
   "cell_type": "code",
   "execution_count": 76,
   "id": "3e41d6ae",
   "metadata": {},
   "outputs": [],
   "source": [
    "def remove_letters(letters, word):\n",
    "    for l in word:\n",
    "        if l in letters:\n",
    "            letters.remove(l)\n",
    "    return letters"
   ]
  },
  {
   "cell_type": "code",
   "execution_count": 77,
   "id": "42a74664",
   "metadata": {},
   "outputs": [
    {
     "data": {
      "text/plain": [
       "['w']"
      ]
     },
     "execution_count": 77,
     "metadata": {},
     "output_type": "execute_result"
    }
   ],
   "source": [
    "remove_letters([\"s\", \"t\", \"r\", \"i\", \"n\", \"g\", \"w\"],\"string\")"
   ]
  },
  {
   "cell_type": "markdown",
   "id": "6756d044",
   "metadata": {},
   "source": [
    "# Q5 Convert to Hex"
   ]
  },
  {
   "cell_type": "markdown",
   "id": "9c40c95f",
   "metadata": {},
   "source": [
    "Create a function that takes a string's characters as ASCII and returns each character's hexadecimal value as a string."
   ]
  },
  {
   "cell_type": "code",
   "execution_count": 82,
   "id": "00b301e7",
   "metadata": {},
   "outputs": [
    {
     "data": {
      "text/plain": [
       "32"
      ]
     },
     "execution_count": 82,
     "metadata": {},
     "output_type": "execute_result"
    }
   ],
   "source": [
    "ord(' ')"
   ]
  },
  {
   "cell_type": "code",
   "execution_count": 84,
   "id": "18186a75",
   "metadata": {},
   "outputs": [
    {
     "data": {
      "text/plain": [
       "'0x20'"
      ]
     },
     "execution_count": 84,
     "metadata": {},
     "output_type": "execute_result"
    }
   ],
   "source": [
    "hex(32)"
   ]
  },
  {
   "cell_type": "code",
   "execution_count": 120,
   "id": "c6434172",
   "metadata": {},
   "outputs": [],
   "source": [
    "def convert_to_hex(txt):\n",
    "    #txt = txt.lower()\n",
    "    hex_val = \"\"\n",
    "    for l in txt:\n",
    "        val = hex(ord(l))\n",
    "        val = val.replace(\"x\",\"\")\n",
    "        idx = val.find(\"0\")\n",
    "        if idx != -1:\n",
    "            val = val[:idx] + val[idx+1:]\n",
    "\n",
    "        if hex_val == \"\":\n",
    "            hex_val += val\n",
    "        else:\n",
    "            hex_val += \" \" + val\n",
    "    return hex_val"
   ]
  },
  {
   "cell_type": "code",
   "execution_count": 121,
   "id": "7e784e3b",
   "metadata": {},
   "outputs": [
    {
     "data": {
      "text/plain": [
       "'4d 61 72 74 79 20 50 6f 70 70 69 6e 73 6f 6e'"
      ]
     },
     "execution_count": 121,
     "metadata": {},
     "output_type": "execute_result"
    }
   ],
   "source": [
    "convert_to_hex('Marty Poppinson')"
   ]
  },
  {
   "cell_type": "code",
   "execution_count": null,
   "id": "d6d2612a",
   "metadata": {},
   "outputs": [],
   "source": []
  }
 ],
 "metadata": {
  "kernelspec": {
   "display_name": "Python 3 (ipykernel)",
   "language": "python",
   "name": "python3"
  },
  "language_info": {
   "codemirror_mode": {
    "name": "ipython",
    "version": 3
   },
   "file_extension": ".py",
   "mimetype": "text/x-python",
   "name": "python",
   "nbconvert_exporter": "python",
   "pygments_lexer": "ipython3",
   "version": "3.12.3"
  }
 },
 "nbformat": 4,
 "nbformat_minor": 5
}
