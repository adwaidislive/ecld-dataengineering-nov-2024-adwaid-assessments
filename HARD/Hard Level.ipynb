{
 "cells": [
  {
   "cell_type": "markdown",
   "id": "306a99e3",
   "metadata": {},
   "source": [
    "# Q1- Algorithms: Binary Search"
   ]
  },
  {
   "cell_type": "markdown",
   "id": "fab4afdc",
   "metadata": {},
   "source": [
    "Create a function that finds a target number in a list of prime numbers. Implement a binary search algorithm in your function. \n",
    "\n",
    "The target number will be from 2 through 97. If the target is prime then return \"yes\" else return \"no\"."
   ]
  },
  {
   "cell_type": "code",
   "execution_count": 1,
   "id": "0edd3bd7",
   "metadata": {},
   "outputs": [],
   "source": [
    "def is_prime(primes,num):\n",
    "    high = len(primes)-1\n",
    "    low = 0\n",
    "    def binarySearch(primes,low,high,num):\n",
    "        if high>=low:\n",
    "            mid = low + (high - low) // 2\n",
    "            if primes[mid] == num:\n",
    "                return 'yes'\n",
    "            \n",
    "            elif (num < primes[mid]):\n",
    "                return binarySearch(primes, low, mid-1, num)\n",
    "        \n",
    "            else:\n",
    "                return binarySearch(primes, mid+1, high, num)\n",
    "            \n",
    "        else:\n",
    "            return 'no'\n",
    "        \n",
    "    return binarySearch(primes,low,high,num)\n",
    "        \n",
    "        "
   ]
  },
  {
   "cell_type": "code",
   "execution_count": 2,
   "id": "062e76f7",
   "metadata": {},
   "outputs": [
    {
     "data": {
      "text/plain": [
       "'no'"
      ]
     },
     "execution_count": 2,
     "metadata": {},
     "output_type": "execute_result"
    }
   ],
   "source": [
    "primes = [2, 3, 5, 7, 11, 13, 17, 19, 23, 29, 31, 37, 41, 43, 47, 53, 59, 61, 67, 71, 73, 79, 83, 89, 97]\n",
    "is_prime(primes,4)"
   ]
  },
  {
   "cell_type": "markdown",
   "id": "8b9d3f47",
   "metadata": {},
   "source": [
    "# Q2 - Checking Palindrome String Using Stack"
   ]
  },
  {
   "cell_type": "code",
   "execution_count": 3,
   "id": "6166fe6e",
   "metadata": {},
   "outputs": [],
   "source": [
    "# Use the Stack Please. Not word == word[::-1]\n",
    "\n",
    "class Stack:\n",
    "    def __init__(self):\n",
    "        self.data = []\n",
    "\n",
    "    def size(self):\n",
    "        return len(self.data)\n",
    "\n",
    "    def push(self, element):\n",
    "        self.data.append(element)\n",
    "\n",
    "    def peek_top(self):\n",
    "        if self.size() == 0:\n",
    "            return \"Stack Is Empty\"\n",
    "        return self.data[-1]\n",
    "\n",
    "    def pop(self):\n",
    "        if self.size() == 0:\n",
    "            return \"Stack Is Empty\"\n",
    "        return self.data.pop()\n",
    "\n",
    "\n",
    "\n",
    "\n",
    "def is_palindrome(word):\n",
    "    s = Stack()\n",
    "    # Inserting the input word into stack\n",
    "    for l in word:\n",
    "        s.push(l)\n",
    "        \n",
    "    # Poping each word from stack and comparing it with the word letter by letter\n",
    "    for l in word:\n",
    "        last = s.pop()\n",
    "        if (l != last):\n",
    "            return False        \n",
    "    return True\n",
    "\n",
    "        "
   ]
  },
  {
   "cell_type": "code",
   "execution_count": 4,
   "id": "28af0e9c",
   "metadata": {},
   "outputs": [
    {
     "data": {
      "text/plain": [
       "True"
      ]
     },
     "execution_count": 4,
     "metadata": {},
     "output_type": "execute_result"
    }
   ],
   "source": [
    "is_palindrome('malayalam')\n"
   ]
  },
  {
   "cell_type": "markdown",
   "id": "2ddeef3f",
   "metadata": {},
   "source": [
    "# Q3 Combine Arrays"
   ]
  },
  {
   "cell_type": "markdown",
   "id": "76337612",
   "metadata": {},
   "source": [
    "Create a function that takes three lists and returns one list where all passed arrays are combined into nested lists.\n",
    "\n",
    "\n",
    "These lists should be combined based on indexes: the first nested list should contain only the items on index 0, the second list on index 1, and so on.\n",
    "\n",
    "\n",
    "If any list contains fewer items than necessary, supplement the missing item with \"*\"."
   ]
  },
  {
   "cell_type": "code",
   "execution_count": 5,
   "id": "dd33c2f8",
   "metadata": {},
   "outputs": [],
   "source": [
    "def combine_lists(lst1,lst2,lst3):\n",
    "    if len(lst1) >len(lst2):\n",
    "        if len(lst1) > len(lst3):\n",
    "            n = len(lst1)\n",
    "        else:\n",
    "            n = len(lst3)\n",
    "    else:\n",
    "        if len(lst2) > len(lst3):\n",
    "            n = len(lst2)\n",
    "        else:\n",
    "            n = len(lst3)\n",
    "            \n",
    "    lst4 = []\n",
    "    for i in range(n):\n",
    "        lst4.append([])\n",
    "        \n",
    "        try:\n",
    "            lst4[i].append(lst1[i])\n",
    "        except IndexError:\n",
    "            lst4[i].append(\"*\")\n",
    "        \n",
    "        try:\n",
    "            lst4[i].append(lst2[i])\n",
    "        except IndexError:\n",
    "            lst4[i].append(\"*\")\n",
    "        \n",
    "        try :\n",
    "            lst4[i].append(lst3[i])\n",
    "        except IndexError:\n",
    "            lst4[i].append(\"*\")\n",
    "        \n",
    "    return lst4"
   ]
  },
  {
   "cell_type": "code",
   "execution_count": 6,
   "id": "c76586d1",
   "metadata": {},
   "outputs": [
    {
     "data": {
      "text/plain": [
       "[[1, 4, 7], [2, 5, 8], [3, 6, '*'], [4, '*', '*']]"
      ]
     },
     "execution_count": 6,
     "metadata": {},
     "output_type": "execute_result"
    }
   ],
   "source": [
    "combine_lists([1, 2, 3, 4], [4, 5, 6], [7, 8,])"
   ]
  },
  {
   "cell_type": "markdown",
   "id": "926986fa",
   "metadata": {},
   "source": [
    "# Q4 Remove The Word!"
   ]
  },
  {
   "cell_type": "markdown",
   "id": "adab2a1c",
   "metadata": {},
   "source": [
    "Create a function that takes a list and string. The function should remove the letters in the string from the list, and return the list.\n",
    "\n"
   ]
  },
  {
   "cell_type": "code",
   "execution_count": 7,
   "id": "3e41d6ae",
   "metadata": {},
   "outputs": [],
   "source": [
    "def remove_letters(letters, word):\n",
    "    for l in word:\n",
    "        if l in letters:\n",
    "            letters.remove(l)\n",
    "    return letters"
   ]
  },
  {
   "cell_type": "code",
   "execution_count": 8,
   "id": "42a74664",
   "metadata": {},
   "outputs": [
    {
     "data": {
      "text/plain": [
       "['w']"
      ]
     },
     "execution_count": 8,
     "metadata": {},
     "output_type": "execute_result"
    }
   ],
   "source": [
    "remove_letters([\"s\", \"t\", \"r\", \"i\", \"n\", \"g\", \"w\"],\"string\")"
   ]
  },
  {
   "cell_type": "markdown",
   "id": "6756d044",
   "metadata": {},
   "source": [
    "# Q5 Convert to Hex"
   ]
  },
  {
   "cell_type": "markdown",
   "id": "9c40c95f",
   "metadata": {},
   "source": [
    "Create a function that takes a string's characters as ASCII and returns each character's hexadecimal value as a string."
   ]
  },
  {
   "cell_type": "code",
   "execution_count": 9,
   "id": "00b301e7",
   "metadata": {},
   "outputs": [
    {
     "data": {
      "text/plain": [
       "32"
      ]
     },
     "execution_count": 9,
     "metadata": {},
     "output_type": "execute_result"
    }
   ],
   "source": [
    "ord(' ')"
   ]
  },
  {
   "cell_type": "code",
   "execution_count": 10,
   "id": "18186a75",
   "metadata": {},
   "outputs": [
    {
     "data": {
      "text/plain": [
       "'0x20'"
      ]
     },
     "execution_count": 10,
     "metadata": {},
     "output_type": "execute_result"
    }
   ],
   "source": [
    "hex(32)"
   ]
  },
  {
   "cell_type": "code",
   "execution_count": 11,
   "id": "c6434172",
   "metadata": {},
   "outputs": [],
   "source": [
    "def convert_to_hex(txt):\n",
    "    #txt = txt.lower()\n",
    "    hex_val = \"\"\n",
    "    for l in txt:\n",
    "        val = hex(ord(l))\n",
    "        val = val.replace(\"x\",\"\")\n",
    "        idx = val.find(\"0\")\n",
    "        if idx != -1:\n",
    "            val = val[:idx] + val[idx+1:]\n",
    "\n",
    "        if hex_val == \"\":\n",
    "            hex_val += val\n",
    "        else:\n",
    "            hex_val += \" \" + val\n",
    "    return hex_val"
   ]
  },
  {
   "cell_type": "code",
   "execution_count": 12,
   "id": "7e784e3b",
   "metadata": {},
   "outputs": [
    {
     "data": {
      "text/plain": [
       "'4d 61 72 74 79 20 50 6f 70 70 69 6e 73 6f 6e'"
      ]
     },
     "execution_count": 12,
     "metadata": {},
     "output_type": "execute_result"
    }
   ],
   "source": [
    "convert_to_hex('Marty Poppinson')"
   ]
  },
  {
   "cell_type": "markdown",
   "id": "d39365fe-c7e5-4b24-9d97-c5068872601a",
   "metadata": {},
   "source": [
    "# Basic Arithmetic Operations on a String Number\n",
    "\n",
    "Create a function to perform basic arithmetic operations that includes addition, subtraction, multiplication and division on a string number (e.g. \"12 + 24\" or \"23 - 21\" or \"12 // 12\" or \"12 * 21\").\n",
    "\n",
    "\n",
    "Here, we have 1 followed by a space, operator followed by another space and 2. For the challenge, we are going to have only two numbers between 1 valid operator. The return value should be a number.\n",
    "\n",
    "\n",
    "eval() is not allowed. In case of division, whenever the second number equals \"0\" return -1.\n",
    "\n",
    "For example:\n",
    "\n",
    "arithmetic_operation(\"12 + 12\") ➞ 24 // 12 + 12 = 24\n",
    "\n",
    "\n",
    "arithmetic_operation(\"12 - 12\") ➞ 24 // 12 - 12 = 0\n",
    "\n",
    "\n",
    "arithmetic_operation(\"12 * 12\") ➞ 144 // 12 * 12 = 144\n",
    "\n",
    "\n",
    "arithmetic_operation(\"12 // 0\") ➞ -1 // 12 / 0 = -1"
   ]
  },
  {
   "cell_type": "code",
   "execution_count": 13,
   "id": "d1b8796e-67e8-4d00-a0cf-4e414e735023",
   "metadata": {},
   "outputs": [],
   "source": [
    "def arithmetic_operation(n):\n",
    "    n = n.split(' ')\n",
    "    if(n[1] == '+'):\n",
    "        return (int(n[0]) + int(n[2]))\n",
    "    elif(n[1] == '-'):\n",
    "        return (int(n[0]) - int(n[2]))\n",
    "    elif(n[1] == '*'):\n",
    "        return (int(n[0]) * int(n[2]))\n",
    "    elif(n[1] == '//'):\n",
    "        if(int(n[2]) == 0):\n",
    "            return -1\n",
    "        else:\n",
    "            return (int(n[0]) // int(n[2]))"
   ]
  },
  {
   "cell_type": "code",
   "execution_count": 14,
   "id": "d21a9d74-bd53-407f-89a4-c80f99fd1225",
   "metadata": {},
   "outputs": [
    {
     "data": {
      "text/plain": [
       "24"
      ]
     },
     "execution_count": 14,
     "metadata": {},
     "output_type": "execute_result"
    }
   ],
   "source": [
    "arithmetic_operation(\"12 + 12\")"
   ]
  },
  {
   "cell_type": "code",
   "execution_count": null,
   "id": "6f5ba9aa-346f-45b5-a44d-751424c5c9b9",
   "metadata": {},
   "outputs": [],
   "source": []
  }
 ],
 "metadata": {
  "kernelspec": {
   "display_name": "Python 3 (ipykernel)",
   "language": "python",
   "name": "python3"
  },
  "language_info": {
   "codemirror_mode": {
    "name": "ipython",
    "version": 3
   },
   "file_extension": ".py",
   "mimetype": "text/x-python",
   "name": "python",
   "nbconvert_exporter": "python",
   "pygments_lexer": "ipython3",
   "version": "3.11.7"
  }
 },
 "nbformat": 4,
 "nbformat_minor": 5
}
