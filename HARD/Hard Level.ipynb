{
 "cells": [
  {
   "cell_type": "markdown",
   "id": "59ef9b47",
   "metadata": {},
   "source": [
    "# Q1- Algorithms: Binary Search"
   ]
  },
  {
   "cell_type": "markdown",
   "id": "2c08cd35",
   "metadata": {},
   "source": [
    "Create a function that finds a target number in a list of prime numbers. Implement a binary search algorithm in your function. \n",
    "\n",
    "The target number will be from 2 through 97. If the target is prime then return \"yes\" else return \"no\"."
   ]
  },
  {
   "cell_type": "code",
   "execution_count": 19,
   "id": "8ce00ae2",
   "metadata": {},
   "outputs": [],
   "source": [
    "def is_prime(primes,num):\n",
    "    high = len(primes)-1\n",
    "    low = 0\n",
    "    def binarySearch(primes,low,high,num):\n",
    "        if high>=low:\n",
    "            mid = low + (high - low) // 2\n",
    "            if primes[mid] == num:\n",
    "                return 'yes'\n",
    "            \n",
    "            elif (num < primes[mid]):\n",
    "                return binarySearch(primes, low, mid-1, num)\n",
    "        \n",
    "            else:\n",
    "                return binarySearch(primes, mid+1, high, num)\n",
    "            \n",
    "        else:\n",
    "            return 'no'\n",
    "        \n",
    "    return binarySearch(primes,low,high,num)\n",
    "        \n",
    "        "
   ]
  },
  {
   "cell_type": "code",
   "execution_count": 20,
   "id": "f728a976",
   "metadata": {},
   "outputs": [
    {
     "data": {
      "text/plain": [
       "'no'"
      ]
     },
     "execution_count": 20,
     "metadata": {},
     "output_type": "execute_result"
    }
   ],
   "source": [
    "primes = [2, 3, 5, 7, 11, 13, 17, 19, 23, 29, 31, 37, 41, 43, 47, 53, 59, 61, 67, 71, 73, 79, 83, 89, 97]\n",
    "is_prime(primes,4)"
   ]
  },
  {
   "cell_type": "markdown",
   "id": "21ddddbe",
   "metadata": {},
   "source": [
    "# Q2 - Checking Palindrome String Using Stack"
   ]
  },
  {
   "cell_type": "code",
   "execution_count": 50,
   "id": "74ed722c",
   "metadata": {},
   "outputs": [],
   "source": [
    "# Use the Stack Please. Not word == word[::-1]\n",
    "\n",
    "class Stack:\n",
    "    def __init__(self):\n",
    "        self.data = []\n",
    "\n",
    "    def size(self):\n",
    "        return len(self.data)\n",
    "\n",
    "    def push(self, element):\n",
    "        self.data.append(element)\n",
    "\n",
    "    def peek_top(self):\n",
    "        if self.size() == 0:\n",
    "            return \"Stack Is Empty\"\n",
    "        return self.data[-1]\n",
    "\n",
    "    def pop(self):\n",
    "        if self.size() == 0:\n",
    "            return \"Stack Is Empty\"\n",
    "        return self.data.pop()\n",
    "\n",
    "\n",
    "\n",
    "\n",
    "def is_palindrome(word):\n",
    "    s = Stack()\n",
    "    # Inserting the input word into stack\n",
    "    for l in word:\n",
    "        s.push(l)\n",
    "        \n",
    "    # Poping each word from stack and comparing it with the word letter by letter\n",
    "    for l in word:\n",
    "        last = s.pop()\n",
    "        if (l != last):\n",
    "            return False        \n",
    "    return True\n",
    "\n",
    "        "
   ]
  },
  {
   "cell_type": "code",
   "execution_count": 53,
   "id": "8fdac248",
   "metadata": {},
   "outputs": [
    {
     "data": {
      "text/plain": [
       "True"
      ]
     },
     "execution_count": 53,
     "metadata": {},
     "output_type": "execute_result"
    }
   ],
   "source": [
    "is_palindrome('malayalam')\n"
   ]
  },
  {
   "cell_type": "markdown",
   "id": "6a0f33f5",
   "metadata": {},
   "source": [
    "# Q3 Combine Arrays"
   ]
  },
  {
   "cell_type": "markdown",
   "id": "66ee5d7d",
   "metadata": {},
   "source": [
    "Create a function that takes three lists and returns one list where all passed arrays are combined into nested lists.\n",
    "\n",
    "\n",
    "These lists should be combined based on indexes: the first nested list should contain only the items on index 0, the second list on index 1, and so on.\n",
    "\n",
    "\n",
    "If any list contains fewer items than necessary, supplement the missing item with \"*\"."
   ]
  },
  {
   "cell_type": "code",
   "execution_count": 67,
   "id": "1d7b9974",
   "metadata": {},
   "outputs": [],
   "source": [
    "def combine_lists(lst1,lst2,lst3):\n",
    "    if len(lst1) >len(lst2):\n",
    "        if len(lst1) > len(lst3):\n",
    "            n = len(lst1)\n",
    "        else:\n",
    "            n = len(lst3)\n",
    "    else:\n",
    "        if len(lst2) > len(lst3):\n",
    "            n = len(lst2)\n",
    "        else:\n",
    "            n = len(lst3)\n",
    "            \n",
    "    lst4 = []\n",
    "    for i in range(n):\n",
    "        lst4.append([])\n",
    "        \n",
    "        try:\n",
    "            lst4[i].append(lst1[i])\n",
    "        except IndexError:\n",
    "            lst4[i].append(\"*\")\n",
    "        \n",
    "        try:\n",
    "            lst4[i].append(lst2[i])\n",
    "        except IndexError:\n",
    "            lst4[i].append(\"*\")\n",
    "        \n",
    "        try :\n",
    "            lst4[i].append(lst3[i])\n",
    "        except IndexError:\n",
    "            lst4[i].append(\"*\")\n",
    "        \n",
    "    return lst4"
   ]
  },
  {
   "cell_type": "code",
   "execution_count": 68,
   "id": "db2ef4f0",
   "metadata": {},
   "outputs": [
    {
     "data": {
      "text/plain": [
       "[[1, 4, 7], [2, 5, 8], [3, 6, '*']]"
      ]
     },
     "execution_count": 68,
     "metadata": {},
     "output_type": "execute_result"
    }
   ],
   "source": [
    "combine_lists([1, 2, 3], [4, 5, 6], [7, 8,])"
   ]
  },
  {
   "cell_type": "markdown",
   "id": "21d76f6a",
   "metadata": {},
   "source": [
    "# Q4 Remove The Word!"
   ]
  },
  {
   "cell_type": "markdown",
   "id": "0da6501f",
   "metadata": {},
   "source": [
    "Create a function that takes a list and string. The function should remove the letters in the string from the list, and return the list.\n",
    "\n"
   ]
  },
  {
   "cell_type": "code",
   "execution_count": 76,
   "id": "012b3680",
   "metadata": {},
   "outputs": [],
   "source": [
    "def remove_letters(letters, word):\n",
    "    for l in word:\n",
    "        if l in letters:\n",
    "            letters.remove(l)\n",
    "    return letters"
   ]
  },
  {
   "cell_type": "code",
   "execution_count": 77,
   "id": "1b98f002",
   "metadata": {},
   "outputs": [
    {
     "data": {
      "text/plain": [
       "['w']"
      ]
     },
     "execution_count": 77,
     "metadata": {},
     "output_type": "execute_result"
    }
   ],
   "source": [
    "remove_letters([\"s\", \"t\", \"r\", \"i\", \"n\", \"g\", \"w\"],\"string\")"
   ]
  },
  {
   "cell_type": "code",
   "execution_count": null,
   "id": "01935e1f",
   "metadata": {},
   "outputs": [],
   "source": []
  }
 ],
 "metadata": {
  "kernelspec": {
   "display_name": "Python 3 (ipykernel)",
   "language": "python",
   "name": "python3"
  },
  "language_info": {
   "codemirror_mode": {
    "name": "ipython",
    "version": 3
   },
   "file_extension": ".py",
   "mimetype": "text/x-python",
   "name": "python",
   "nbconvert_exporter": "python",
   "pygments_lexer": "ipython3",
   "version": "3.12.3"
  }
 },
 "nbformat": 4,
 "nbformat_minor": 5
}
